{
 "cells": [
  {
   "cell_type": "code",
   "execution_count": 2,
   "metadata": {},
   "outputs": [],
   "source": [
    "import os\n",
    "import sys\n",
    "import pandas as pd\n",
    "import numpy as np\n",
    "import math\n",
    "from matplotlib import pyplot as plt\n",
    "import tensorflow as tf\n",
    "windowSize=10\n",
    "epochs=300"
   ]
  },
  {
   "cell_type": "markdown",
   "metadata": {},
   "source": [
    "## Trial on my stock price data"
   ]
  },
  {
   "cell_type": "code",
   "execution_count": 3,
   "metadata": {},
   "outputs": [],
   "source": [
    "#based on: https://www.youtube.com/watch?v=c0k-YLQGKjY\n",
    "#format:\n",
    "##         X           Y\n",
    "## [[[1],[2],[3],[4]] [5]\n",
    "\n",
    "def df_to_windowed_df(dataframe,windowSize=3):\n",
    "  data=dataframe.to_numpy()\n",
    "  X=[]\n",
    "  Y=[]\n",
    "  \n",
    "  for i in range(0,len(data)-windowSize):\n",
    "    # nth=[[a[0],a[1]] for a in data[i:i+windowSize]]\n",
    "    nth=[[a[1]] for a in data[i:i+windowSize]]\n",
    "    # print(nth)\n",
    "    X.append(nth)\n",
    "    Y.append((data[i+windowSize])[1])\n",
    "  \n",
    "  return np.array(X),np.array(Y)\n",
    "    \n",
    "## history of tesla share prices\n",
    "filepath=\"TSLA.csv\"\n",
    "df=pd.read_csv(filepath)\n",
    "\n",
    "df.Date = pd.to_datetime(df.Date).astype('int64') / 10**9\n",
    "X,Y=df_to_windowed_df(df,windowSize=windowSize)"
   ]
  },
  {
   "cell_type": "code",
   "execution_count": 5,
   "metadata": {},
   "outputs": [],
   "source": [
    "def splitDataset(X,Y,threshold=0.8,valsize=0.01): \n",
    "    #threshold means 80% is split train/val\n",
    "    # valsize means 1% never sees the model in val or training; this is taken from the val side, so val is actually size = 1-threshold-valsize\n",
    "    threshold_index=round(X.shape[0]*(threshold+valsize))\n",
    "    valindex=round(X.shape[0]*(1-valsize))\n",
    "    \n",
    "    x_train=X[:threshold_index]\n",
    "    y_train=Y[:threshold_index]\n",
    "    \n",
    "    x_val=X[threshold_index:valindex]\n",
    "    y_val=Y[threshold_index:valindex]\n",
    "    \n",
    "    x_test=X[valindex:]\n",
    "    y_test=Y[valindex:]\n",
    "    \n",
    "    return x_train,y_train,x_val,y_val,x_test,y_test\n",
    "\n",
    "x_train_0,y_train_0,x_val_0,y_val_0,x_test_0,y_test_0=splitDataset(X,Y)"
   ]
  },
  {
   "cell_type": "code",
   "execution_count": 6,
   "metadata": {},
   "outputs": [],
   "source": [
    "###Normalize the data!\n",
    "\n",
    "def zscoreNorm_manual(inp,mean,std):\n",
    "    return (inp-mean)/std\n",
    "\n",
    "\n",
    "normalize=True\n",
    "if normalize==True:\n",
    "    # Order=2 makes it a minmax scaling operation (so that we can de-normalize later)\n",
    "    # x_train=tf.keras.utils.normalize(x_train_0,axis=0,order=2)\n",
    "    # y_train=tf.keras.utils.normalize(y_train_0,axis=0,order=2)\n",
    "\n",
    "    # x_val=tf.keras.utils.normalize(x_val_0,axis=0,order=2)\n",
    "    # y_val=tf.keras.utils.normalize(y_val_0,axis=0,order=2)\n",
    "\n",
    "    # x_test=tf.keras.utils.normalize(x_test_0,axis=0,order=np.inf)\n",
    "    # y_test=tf.keras.utils.normalize(y_test_0,axis=0,order=np.inf)\n",
    "    \n",
    "    unNormData={\"xtrain\":[np.mean(x_train_0,axis=0),np.std(x_train_0,axis=0)],\"ytrain\":[np.mean(y_train_0,axis=0),np.std(y_train_0,axis=0)],\n",
    "                \"xval\":[np.mean(x_val_0,axis=0),np.std(x_val_0,axis=0)],\"yval\":[np.mean(y_val_0,axis=0),np.std(y_val_0,axis=0)],\n",
    "                \"xtest\":[np.mean(x_test_0,axis=0),np.std(x_test_0,axis=0)],\"ytest\":[np.mean(y_test_0,axis=0),np.std(y_test_0,axis=0)]\n",
    "                }\n",
    "    \n",
    "    \n",
    "    x_train=zscoreNorm_manual(x_train_0,unNormData[\"xtrain\"][0],unNormData[\"xtrain\"][1])\n",
    "    y_train=zscoreNorm_manual(y_train_0,unNormData[\"ytrain\"][0],unNormData[\"ytrain\"][1])\n",
    "    \n",
    "    x_val=zscoreNorm_manual(x_val_0,unNormData[\"xval\"][0],unNormData[\"xval\"][1])\n",
    "    y_val=zscoreNorm_manual(y_val_0,unNormData[\"yval\"][0],unNormData[\"yval\"][1])\n",
    "    \n",
    "    x_test=zscoreNorm_manual(x_test_0,unNormData[\"xtest\"][0],unNormData[\"xtest\"][1])\n",
    "    y_test=zscoreNorm_manual(y_test_0,unNormData[\"ytest\"][0],unNormData[\"ytest\"][1])\n",
    "\n",
    "\n",
    "# print(x_train.shape,x_train_c.shape)\n",
    "# n=1\n",
    "# # print(x_train[1])\n",
    "\n",
    "# print(x_train[n],'\\n\\nBru\\n\\n',x_train_c[n])\n",
    "\n",
    "\n",
    "# print(x_tr_norm.shape,x_test_n.shape)\n",
    "# # print(x_tr_norm[0],y_tr_norm[0])\n",
    "# print((x_tr_norm.shape[1],x_tr_norm.shape[2]))\n"
   ]
  },
  {
   "cell_type": "code",
   "execution_count": 7,
   "metadata": {},
   "outputs": [],
   "source": [
    "# NO LONGER NEEDED WITH THE MANUAL Z- SCORE NORMALIZATION PROCESS\n",
    "\n",
    "# if y_train.shape[0]<y_train.shape[1]:\n",
    "#     #transpose all\n",
    "#     y_train=np.transpose(y_train)\n",
    "    \n",
    "# if y_val.shape[0]<y_val.shape[1]:\n",
    "#     #transpose all\n",
    "#     y_val=np.transpose(y_val)\n",
    "    \n",
    "# if y_test.shape[0]<y_test.shape[1]:\n",
    "#     #transpose all\n",
    "#     y_test=np.transpose(y_test)"
   ]
  },
  {
   "cell_type": "code",
   "execution_count": 104,
   "metadata": {},
   "outputs": [
    {
     "name": "stdout",
     "output_type": "stream",
     "text": [
      "241.550003\n",
      "mean 228.27176388235293 228.27176388235293\n",
      "std 13.430881753780533 13.430881753780533\n",
      "0.9886349504871121\n",
      "241.550003\n"
     ]
    }
   ],
   "source": [
    "# THIS IS JUST TO VALIDATE THAT THE NORMALIZATION AND DENORMALIZATION PROCESS WORKS\n",
    "\n",
    "print(y_test_0[-4])\n",
    "print(\"mean\",unNormData['ytest'][0],np.mean(y_test_0,axis=0))\n",
    "print(\"std\",unNormData['ytest'][1],np.std(y_test_0,axis=0))\n",
    "print(y_test[-4])\n",
    "print(y_test[-4]*unNormData['ytest'][1]+unNormData['ytest'][0])"
   ]
  },
  {
   "cell_type": "code",
   "execution_count": 9,
   "metadata": {},
   "outputs": [
    {
     "name": "stdout",
     "output_type": "stream",
     "text": [
      "[PhysicalDevice(name='/physical_device:CPU:0', device_type='CPU'), PhysicalDevice(name='/physical_device:GPU:0', device_type='GPU')]\n"
     ]
    }
   ],
   "source": [
    "import tensorflow as tf\n",
    "from tensorflow.keras.models import Sequential\n",
    "from tensorflow.keras.layers import *\n",
    "from tensorflow.keras.callbacks import ModelCheckpoint\n",
    "from tensorflow.keras.metrics import RootMeanSquaredError\n",
    "from tensorflow.keras.optimizers import Adam\n",
    "\n",
    "print(tf.config.list_physical_devices())"
   ]
  },
  {
   "cell_type": "code",
   "execution_count": 10,
   "metadata": {},
   "outputs": [
    {
     "name": "stdout",
     "output_type": "stream",
     "text": [
      "[-0.52601099 -0.52342297 -0.52243952 ...  3.30763783  3.2137573\n",
      "  3.38010221]\n"
     ]
    }
   ],
   "source": [
    "# x_train.shape\n",
    "# print(x_train)\n",
    "\n",
    "print(y_train)"
   ]
  },
  {
   "cell_type": "code",
   "execution_count": 11,
   "metadata": {},
   "outputs": [
    {
     "name": "stdout",
     "output_type": "stream",
     "text": [
      "Model: \"sequential\"\n",
      "_________________________________________________________________\n",
      " Layer (type)                Output Shape              Param #   \n",
      "=================================================================\n",
      " lstm (LSTM)                 (None, 64)                16896     \n",
      "                                                                 \n",
      " dense (Dense)               (None, 8)                 520       \n",
      "                                                                 \n",
      " dense_1 (Dense)             (None, 1)                 9         \n",
      "                                                                 \n",
      "=================================================================\n",
      "Total params: 17,425\n",
      "Trainable params: 17,425\n",
      "Non-trainable params: 0\n",
      "_________________________________________________________________\n"
     ]
    }
   ],
   "source": [
    "model=tf.keras.Sequential()\n",
    "\n",
    "model.add(InputLayer((x_train.shape[1],x_train.shape[2])))\n",
    "model.add(LSTM(64))\n",
    "model.add(Dense(8,'relu'))\n",
    "model.add(Dense(1,'linear'))\n",
    "\n",
    "model.summary()\n"
   ]
  },
  {
   "cell_type": "code",
   "execution_count": 12,
   "metadata": {},
   "outputs": [],
   "source": [
    "logspath=os.path.join('logs','model_init')\n",
    "cp=ModelCheckpoint(logspath,save_best_only=True)\n",
    "model.compile(loss='mse', optimizer=Adam())\n"
   ]
  },
  {
   "cell_type": "code",
   "execution_count": 13,
   "metadata": {},
   "outputs": [
    {
     "data": {
      "text/plain": [
       "((2736, 10, 1), (2736,), (608, 10, 1), (608,))"
      ]
     },
     "execution_count": 13,
     "metadata": {},
     "output_type": "execute_result"
    }
   ],
   "source": [
    "x_train.shape,y_train.shape,x_val.shape,y_val.shape"
   ]
  },
  {
   "cell_type": "code",
   "execution_count": 14,
   "metadata": {},
   "outputs": [
    {
     "name": "stdout",
     "output_type": "stream",
     "text": [
      "Epoch 1/300\n",
      "79/86 [==========================>...] - ETA: 0s - loss: 0.1741"
     ]
    },
    {
     "name": "stderr",
     "output_type": "stream",
     "text": [
      "WARNING:absl:Found untraced functions such as lstm_cell_layer_call_fn, lstm_cell_layer_call_and_return_conditional_losses while saving (showing 2 of 2). These functions will not be directly callable after loading.\n"
     ]
    },
    {
     "name": "stdout",
     "output_type": "stream",
     "text": [
      "INFO:tensorflow:Assets written to: logs\\model_init\\assets\n"
     ]
    },
    {
     "name": "stderr",
     "output_type": "stream",
     "text": [
      "INFO:tensorflow:Assets written to: logs\\model_init\\assets\n"
     ]
    },
    {
     "name": "stdout",
     "output_type": "stream",
     "text": [
      "86/86 [==============================] - 13s 64ms/step - loss: 0.1623 - val_loss: 0.1538\n",
      "Epoch 2/300\n",
      "82/86 [===========================>..] - ETA: 0s - loss: 0.0094"
     ]
    },
    {
     "name": "stderr",
     "output_type": "stream",
     "text": [
      "WARNING:absl:Found untraced functions such as lstm_cell_layer_call_fn, lstm_cell_layer_call_and_return_conditional_losses while saving (showing 2 of 2). These functions will not be directly callable after loading.\n"
     ]
    },
    {
     "name": "stdout",
     "output_type": "stream",
     "text": [
      "INFO:tensorflow:Assets written to: logs\\model_init\\assets\n"
     ]
    },
    {
     "name": "stderr",
     "output_type": "stream",
     "text": [
      "INFO:tensorflow:Assets written to: logs\\model_init\\assets\n"
     ]
    },
    {
     "name": "stdout",
     "output_type": "stream",
     "text": [
      "86/86 [==============================] - 4s 50ms/step - loss: 0.0094 - val_loss: 0.1213\n",
      "Epoch 3/300\n",
      "86/86 [==============================] - 1s 7ms/step - loss: 0.0083 - val_loss: 0.1332\n",
      "Epoch 4/300\n",
      "86/86 [==============================] - 1s 7ms/step - loss: 0.0066 - val_loss: 0.1232\n",
      "Epoch 5/300\n",
      "86/86 [==============================] - 1s 7ms/step - loss: 0.0062 - val_loss: 0.1220\n",
      "Epoch 6/300\n",
      "86/86 [==============================] - ETA: 0s - loss: 0.0060"
     ]
    },
    {
     "name": "stderr",
     "output_type": "stream",
     "text": [
      "WARNING:absl:Found untraced functions such as lstm_cell_layer_call_fn, lstm_cell_layer_call_and_return_conditional_losses while saving (showing 2 of 2). These functions will not be directly callable after loading.\n"
     ]
    },
    {
     "name": "stdout",
     "output_type": "stream",
     "text": [
      "INFO:tensorflow:Assets written to: logs\\model_init\\assets\n"
     ]
    },
    {
     "name": "stderr",
     "output_type": "stream",
     "text": [
      "INFO:tensorflow:Assets written to: logs\\model_init\\assets\n"
     ]
    },
    {
     "name": "stdout",
     "output_type": "stream",
     "text": [
      "86/86 [==============================] - 4s 51ms/step - loss: 0.0060 - val_loss: 0.1144\n",
      "Epoch 7/300\n",
      "86/86 [==============================] - 1s 7ms/step - loss: 0.0056 - val_loss: 0.1225\n",
      "Epoch 8/300\n",
      "83/86 [===========================>..] - ETA: 0s - loss: 0.0060"
     ]
    },
    {
     "name": "stderr",
     "output_type": "stream",
     "text": [
      "WARNING:absl:Found untraced functions such as lstm_cell_layer_call_fn, lstm_cell_layer_call_and_return_conditional_losses while saving (showing 2 of 2). These functions will not be directly callable after loading.\n"
     ]
    },
    {
     "name": "stdout",
     "output_type": "stream",
     "text": [
      "INFO:tensorflow:Assets written to: logs\\model_init\\assets\n"
     ]
    },
    {
     "name": "stderr",
     "output_type": "stream",
     "text": [
      "INFO:tensorflow:Assets written to: logs\\model_init\\assets\n"
     ]
    },
    {
     "name": "stdout",
     "output_type": "stream",
     "text": [
      "86/86 [==============================] - 4s 50ms/step - loss: 0.0064 - val_loss: 0.1140\n",
      "Epoch 9/300\n",
      "81/86 [===========================>..] - ETA: 0s - loss: 0.0052"
     ]
    },
    {
     "name": "stderr",
     "output_type": "stream",
     "text": [
      "WARNING:absl:Found untraced functions such as lstm_cell_layer_call_fn, lstm_cell_layer_call_and_return_conditional_losses while saving (showing 2 of 2). These functions will not be directly callable after loading.\n"
     ]
    },
    {
     "name": "stdout",
     "output_type": "stream",
     "text": [
      "INFO:tensorflow:Assets written to: logs\\model_init\\assets\n"
     ]
    },
    {
     "name": "stderr",
     "output_type": "stream",
     "text": [
      "INFO:tensorflow:Assets written to: logs\\model_init\\assets\n"
     ]
    },
    {
     "name": "stdout",
     "output_type": "stream",
     "text": [
      "86/86 [==============================] - 4s 49ms/step - loss: 0.0050 - val_loss: 0.1098\n",
      "Epoch 10/300\n",
      "79/86 [==========================>...] - ETA: 0s - loss: 0.0046"
     ]
    },
    {
     "name": "stderr",
     "output_type": "stream",
     "text": [
      "WARNING:absl:Found untraced functions such as lstm_cell_layer_call_fn, lstm_cell_layer_call_and_return_conditional_losses while saving (showing 2 of 2). These functions will not be directly callable after loading.\n"
     ]
    },
    {
     "name": "stdout",
     "output_type": "stream",
     "text": [
      "INFO:tensorflow:Assets written to: logs\\model_init\\assets\n"
     ]
    },
    {
     "name": "stderr",
     "output_type": "stream",
     "text": [
      "INFO:tensorflow:Assets written to: logs\\model_init\\assets\n"
     ]
    },
    {
     "name": "stdout",
     "output_type": "stream",
     "text": [
      "86/86 [==============================] - 4s 47ms/step - loss: 0.0047 - val_loss: 0.1082\n",
      "Epoch 11/300\n",
      "85/86 [============================>.] - ETA: 0s - loss: 0.0070"
     ]
    },
    {
     "name": "stderr",
     "output_type": "stream",
     "text": [
      "WARNING:absl:Found untraced functions such as lstm_cell_layer_call_fn, lstm_cell_layer_call_and_return_conditional_losses while saving (showing 2 of 2). These functions will not be directly callable after loading.\n"
     ]
    },
    {
     "name": "stdout",
     "output_type": "stream",
     "text": [
      "INFO:tensorflow:Assets written to: logs\\model_init\\assets\n"
     ]
    },
    {
     "name": "stderr",
     "output_type": "stream",
     "text": [
      "INFO:tensorflow:Assets written to: logs\\model_init\\assets\n"
     ]
    },
    {
     "name": "stdout",
     "output_type": "stream",
     "text": [
      "86/86 [==============================] - 5s 60ms/step - loss: 0.0070 - val_loss: 0.1046\n",
      "Epoch 12/300\n",
      "86/86 [==============================] - 1s 8ms/step - loss: 0.0046 - val_loss: 0.1066\n",
      "Epoch 13/300\n",
      "79/86 [==========================>...] - ETA: 0s - loss: 0.0049"
     ]
    },
    {
     "name": "stderr",
     "output_type": "stream",
     "text": [
      "WARNING:absl:Found untraced functions such as lstm_cell_layer_call_fn, lstm_cell_layer_call_and_return_conditional_losses while saving (showing 2 of 2). These functions will not be directly callable after loading.\n"
     ]
    },
    {
     "name": "stdout",
     "output_type": "stream",
     "text": [
      "INFO:tensorflow:Assets written to: logs\\model_init\\assets\n"
     ]
    },
    {
     "name": "stderr",
     "output_type": "stream",
     "text": [
      "INFO:tensorflow:Assets written to: logs\\model_init\\assets\n"
     ]
    },
    {
     "name": "stdout",
     "output_type": "stream",
     "text": [
      "86/86 [==============================] - 4s 47ms/step - loss: 0.0048 - val_loss: 0.1039\n",
      "Epoch 14/300\n",
      "82/86 [===========================>..] - ETA: 0s - loss: 0.0043"
     ]
    },
    {
     "name": "stderr",
     "output_type": "stream",
     "text": [
      "WARNING:absl:Found untraced functions such as lstm_cell_layer_call_fn, lstm_cell_layer_call_and_return_conditional_losses while saving (showing 2 of 2). These functions will not be directly callable after loading.\n"
     ]
    },
    {
     "name": "stdout",
     "output_type": "stream",
     "text": [
      "INFO:tensorflow:Assets written to: logs\\model_init\\assets\n"
     ]
    },
    {
     "name": "stderr",
     "output_type": "stream",
     "text": [
      "INFO:tensorflow:Assets written to: logs\\model_init\\assets\n"
     ]
    },
    {
     "name": "stdout",
     "output_type": "stream",
     "text": [
      "86/86 [==============================] - 4s 49ms/step - loss: 0.0043 - val_loss: 0.0967\n",
      "Epoch 15/300\n",
      "86/86 [==============================] - 1s 7ms/step - loss: 0.0041 - val_loss: 0.0968\n",
      "Epoch 16/300\n",
      "86/86 [==============================] - 1s 8ms/step - loss: 0.0042 - val_loss: 0.0997\n",
      "Epoch 17/300\n",
      "82/86 [===========================>..] - ETA: 0s - loss: 0.0036"
     ]
    },
    {
     "name": "stderr",
     "output_type": "stream",
     "text": [
      "WARNING:absl:Found untraced functions such as lstm_cell_layer_call_fn, lstm_cell_layer_call_and_return_conditional_losses while saving (showing 2 of 2). These functions will not be directly callable after loading.\n"
     ]
    },
    {
     "name": "stdout",
     "output_type": "stream",
     "text": [
      "INFO:tensorflow:Assets written to: logs\\model_init\\assets\n"
     ]
    },
    {
     "name": "stderr",
     "output_type": "stream",
     "text": [
      "INFO:tensorflow:Assets written to: logs\\model_init\\assets\n"
     ]
    },
    {
     "name": "stdout",
     "output_type": "stream",
     "text": [
      "86/86 [==============================] - 4s 47ms/step - loss: 0.0037 - val_loss: 0.0920\n",
      "Epoch 18/300\n",
      "86/86 [==============================] - 1s 7ms/step - loss: 0.0038 - val_loss: 0.0986\n",
      "Epoch 19/300\n",
      "81/86 [===========================>..] - ETA: 0s - loss: 0.0041"
     ]
    },
    {
     "name": "stderr",
     "output_type": "stream",
     "text": [
      "WARNING:absl:Found untraced functions such as lstm_cell_layer_call_fn, lstm_cell_layer_call_and_return_conditional_losses while saving (showing 2 of 2). These functions will not be directly callable after loading.\n"
     ]
    },
    {
     "name": "stdout",
     "output_type": "stream",
     "text": [
      "INFO:tensorflow:Assets written to: logs\\model_init\\assets\n"
     ]
    },
    {
     "name": "stderr",
     "output_type": "stream",
     "text": [
      "INFO:tensorflow:Assets written to: logs\\model_init\\assets\n"
     ]
    },
    {
     "name": "stdout",
     "output_type": "stream",
     "text": [
      "86/86 [==============================] - 4s 44ms/step - loss: 0.0041 - val_loss: 0.0917\n",
      "Epoch 20/300\n",
      "77/86 [=========================>....] - ETA: 0s - loss: 0.0036"
     ]
    },
    {
     "name": "stderr",
     "output_type": "stream",
     "text": [
      "WARNING:absl:Found untraced functions such as lstm_cell_layer_call_fn, lstm_cell_layer_call_and_return_conditional_losses while saving (showing 2 of 2). These functions will not be directly callable after loading.\n"
     ]
    },
    {
     "name": "stdout",
     "output_type": "stream",
     "text": [
      "INFO:tensorflow:Assets written to: logs\\model_init\\assets\n"
     ]
    },
    {
     "name": "stderr",
     "output_type": "stream",
     "text": [
      "INFO:tensorflow:Assets written to: logs\\model_init\\assets\n"
     ]
    },
    {
     "name": "stdout",
     "output_type": "stream",
     "text": [
      "86/86 [==============================] - 4s 46ms/step - loss: 0.0035 - val_loss: 0.0894\n",
      "Epoch 21/300\n",
      "86/86 [==============================] - 1s 7ms/step - loss: 0.0042 - val_loss: 0.0902\n",
      "Epoch 22/300\n",
      "84/86 [============================>.] - ETA: 0s - loss: 0.0035"
     ]
    },
    {
     "name": "stderr",
     "output_type": "stream",
     "text": [
      "WARNING:absl:Found untraced functions such as lstm_cell_layer_call_fn, lstm_cell_layer_call_and_return_conditional_losses while saving (showing 2 of 2). These functions will not be directly callable after loading.\n"
     ]
    },
    {
     "name": "stdout",
     "output_type": "stream",
     "text": [
      "INFO:tensorflow:Assets written to: logs\\model_init\\assets\n"
     ]
    },
    {
     "name": "stderr",
     "output_type": "stream",
     "text": [
      "INFO:tensorflow:Assets written to: logs\\model_init\\assets\n"
     ]
    },
    {
     "name": "stdout",
     "output_type": "stream",
     "text": [
      "86/86 [==============================] - 4s 43ms/step - loss: 0.0034 - val_loss: 0.0851\n",
      "Epoch 23/300\n",
      "86/86 [==============================] - ETA: 0s - loss: 0.0035"
     ]
    },
    {
     "name": "stderr",
     "output_type": "stream",
     "text": [
      "WARNING:absl:Found untraced functions such as lstm_cell_layer_call_fn, lstm_cell_layer_call_and_return_conditional_losses while saving (showing 2 of 2). These functions will not be directly callable after loading.\n"
     ]
    },
    {
     "name": "stdout",
     "output_type": "stream",
     "text": [
      "INFO:tensorflow:Assets written to: logs\\model_init\\assets\n"
     ]
    },
    {
     "name": "stderr",
     "output_type": "stream",
     "text": [
      "INFO:tensorflow:Assets written to: logs\\model_init\\assets\n"
     ]
    },
    {
     "name": "stdout",
     "output_type": "stream",
     "text": [
      "86/86 [==============================] - 4s 51ms/step - loss: 0.0035 - val_loss: 0.0830\n",
      "Epoch 24/300\n",
      "86/86 [==============================] - 1s 7ms/step - loss: 0.0035 - val_loss: 0.0933\n",
      "Epoch 25/300\n",
      "86/86 [==============================] - 1s 6ms/step - loss: 0.0038 - val_loss: 0.0835\n",
      "Epoch 26/300\n",
      "86/86 [==============================] - 1s 6ms/step - loss: 0.0035 - val_loss: 0.0838\n",
      "Epoch 27/300\n",
      "86/86 [==============================] - 1s 6ms/step - loss: 0.0033 - val_loss: 0.0832\n",
      "Epoch 28/300\n",
      "80/86 [==========================>...] - ETA: 0s - loss: 0.0042"
     ]
    },
    {
     "name": "stderr",
     "output_type": "stream",
     "text": [
      "WARNING:absl:Found untraced functions such as lstm_cell_layer_call_fn, lstm_cell_layer_call_and_return_conditional_losses while saving (showing 2 of 2). These functions will not be directly callable after loading.\n"
     ]
    },
    {
     "name": "stdout",
     "output_type": "stream",
     "text": [
      "INFO:tensorflow:Assets written to: logs\\model_init\\assets\n"
     ]
    },
    {
     "name": "stderr",
     "output_type": "stream",
     "text": [
      "INFO:tensorflow:Assets written to: logs\\model_init\\assets\n"
     ]
    },
    {
     "name": "stdout",
     "output_type": "stream",
     "text": [
      "86/86 [==============================] - 4s 45ms/step - loss: 0.0042 - val_loss: 0.0794\n",
      "Epoch 29/300\n",
      "78/86 [==========================>...] - ETA: 0s - loss: 0.0033"
     ]
    },
    {
     "name": "stderr",
     "output_type": "stream",
     "text": [
      "WARNING:absl:Found untraced functions such as lstm_cell_layer_call_fn, lstm_cell_layer_call_and_return_conditional_losses while saving (showing 2 of 2). These functions will not be directly callable after loading.\n"
     ]
    },
    {
     "name": "stdout",
     "output_type": "stream",
     "text": [
      "INFO:tensorflow:Assets written to: logs\\model_init\\assets\n"
     ]
    },
    {
     "name": "stderr",
     "output_type": "stream",
     "text": [
      "INFO:tensorflow:Assets written to: logs\\model_init\\assets\n"
     ]
    },
    {
     "name": "stdout",
     "output_type": "stream",
     "text": [
      "86/86 [==============================] - 4s 45ms/step - loss: 0.0036 - val_loss: 0.0754\n",
      "Epoch 30/300\n",
      "86/86 [==============================] - 1s 9ms/step - loss: 0.0039 - val_loss: 0.0779\n",
      "Epoch 31/300\n",
      "86/86 [==============================] - 1s 7ms/step - loss: 0.0037 - val_loss: 0.0795\n",
      "Epoch 32/300\n",
      "77/86 [=========================>....] - ETA: 0s - loss: 0.0038"
     ]
    },
    {
     "name": "stderr",
     "output_type": "stream",
     "text": [
      "WARNING:absl:Found untraced functions such as lstm_cell_layer_call_fn, lstm_cell_layer_call_and_return_conditional_losses while saving (showing 2 of 2). These functions will not be directly callable after loading.\n"
     ]
    },
    {
     "name": "stdout",
     "output_type": "stream",
     "text": [
      "INFO:tensorflow:Assets written to: logs\\model_init\\assets\n"
     ]
    },
    {
     "name": "stderr",
     "output_type": "stream",
     "text": [
      "INFO:tensorflow:Assets written to: logs\\model_init\\assets\n"
     ]
    },
    {
     "name": "stdout",
     "output_type": "stream",
     "text": [
      "86/86 [==============================] - 5s 53ms/step - loss: 0.0037 - val_loss: 0.0696\n",
      "Epoch 33/300\n",
      "86/86 [==============================] - 1s 7ms/step - loss: 0.0034 - val_loss: 0.0697\n",
      "Epoch 34/300\n",
      "84/86 [============================>.] - ETA: 0s - loss: 0.0039"
     ]
    },
    {
     "name": "stderr",
     "output_type": "stream",
     "text": [
      "WARNING:absl:Found untraced functions such as lstm_cell_layer_call_fn, lstm_cell_layer_call_and_return_conditional_losses while saving (showing 2 of 2). These functions will not be directly callable after loading.\n"
     ]
    },
    {
     "name": "stdout",
     "output_type": "stream",
     "text": [
      "INFO:tensorflow:Assets written to: logs\\model_init\\assets\n"
     ]
    },
    {
     "name": "stderr",
     "output_type": "stream",
     "text": [
      "INFO:tensorflow:Assets written to: logs\\model_init\\assets\n"
     ]
    },
    {
     "name": "stdout",
     "output_type": "stream",
     "text": [
      "86/86 [==============================] - 4s 48ms/step - loss: 0.0038 - val_loss: 0.0689\n",
      "Epoch 35/300\n",
      "86/86 [==============================] - 1s 7ms/step - loss: 0.0035 - val_loss: 0.0726\n",
      "Epoch 36/300\n",
      "86/86 [==============================] - 1s 6ms/step - loss: 0.0032 - val_loss: 0.0697\n",
      "Epoch 37/300\n",
      "86/86 [==============================] - 1s 7ms/step - loss: 0.0035 - val_loss: 0.0697\n",
      "Epoch 38/300\n",
      "86/86 [==============================] - 1s 7ms/step - loss: 0.0031 - val_loss: 0.0711\n",
      "Epoch 39/300\n",
      "86/86 [==============================] - 1s 6ms/step - loss: 0.0030 - val_loss: 0.0734\n",
      "Epoch 40/300\n",
      "86/86 [==============================] - 1s 6ms/step - loss: 0.0028 - val_loss: 0.0696\n",
      "Epoch 41/300\n",
      "86/86 [==============================] - 1s 6ms/step - loss: 0.0034 - val_loss: 0.0716\n",
      "Epoch 42/300\n",
      "86/86 [==============================] - 1s 6ms/step - loss: 0.0033 - val_loss: 0.0763\n",
      "Epoch 43/300\n",
      "83/86 [===========================>..] - ETA: 0s - loss: 0.0038"
     ]
    },
    {
     "name": "stderr",
     "output_type": "stream",
     "text": [
      "WARNING:absl:Found untraced functions such as lstm_cell_layer_call_fn, lstm_cell_layer_call_and_return_conditional_losses while saving (showing 2 of 2). These functions will not be directly callable after loading.\n"
     ]
    },
    {
     "name": "stdout",
     "output_type": "stream",
     "text": [
      "INFO:tensorflow:Assets written to: logs\\model_init\\assets\n"
     ]
    },
    {
     "name": "stderr",
     "output_type": "stream",
     "text": [
      "INFO:tensorflow:Assets written to: logs\\model_init\\assets\n"
     ]
    },
    {
     "name": "stdout",
     "output_type": "stream",
     "text": [
      "86/86 [==============================] - 4s 45ms/step - loss: 0.0037 - val_loss: 0.0676\n",
      "Epoch 44/300\n",
      "86/86 [==============================] - 1s 7ms/step - loss: 0.0035 - val_loss: 0.0678\n",
      "Epoch 45/300\n",
      "79/86 [==========================>...] - ETA: 0s - loss: 0.0024"
     ]
    },
    {
     "name": "stderr",
     "output_type": "stream",
     "text": [
      "WARNING:absl:Found untraced functions such as lstm_cell_layer_call_fn, lstm_cell_layer_call_and_return_conditional_losses while saving (showing 2 of 2). These functions will not be directly callable after loading.\n"
     ]
    },
    {
     "name": "stdout",
     "output_type": "stream",
     "text": [
      "INFO:tensorflow:Assets written to: logs\\model_init\\assets\n"
     ]
    },
    {
     "name": "stderr",
     "output_type": "stream",
     "text": [
      "INFO:tensorflow:Assets written to: logs\\model_init\\assets\n"
     ]
    },
    {
     "name": "stdout",
     "output_type": "stream",
     "text": [
      "86/86 [==============================] - 4s 49ms/step - loss: 0.0027 - val_loss: 0.0671\n",
      "Epoch 46/300\n",
      "84/86 [============================>.] - ETA: 0s - loss: 0.0030"
     ]
    },
    {
     "name": "stderr",
     "output_type": "stream",
     "text": [
      "WARNING:absl:Found untraced functions such as lstm_cell_layer_call_fn, lstm_cell_layer_call_and_return_conditional_losses while saving (showing 2 of 2). These functions will not be directly callable after loading.\n"
     ]
    },
    {
     "name": "stdout",
     "output_type": "stream",
     "text": [
      "INFO:tensorflow:Assets written to: logs\\model_init\\assets\n"
     ]
    },
    {
     "name": "stderr",
     "output_type": "stream",
     "text": [
      "INFO:tensorflow:Assets written to: logs\\model_init\\assets\n"
     ]
    },
    {
     "name": "stdout",
     "output_type": "stream",
     "text": [
      "86/86 [==============================] - 5s 57ms/step - loss: 0.0030 - val_loss: 0.0666\n",
      "Epoch 47/300\n",
      "86/86 [==============================] - 1s 8ms/step - loss: 0.0028 - val_loss: 0.0707\n",
      "Epoch 48/300\n",
      "84/86 [============================>.] - ETA: 0s - loss: 0.0028"
     ]
    },
    {
     "name": "stderr",
     "output_type": "stream",
     "text": [
      "WARNING:absl:Found untraced functions such as lstm_cell_layer_call_fn, lstm_cell_layer_call_and_return_conditional_losses while saving (showing 2 of 2). These functions will not be directly callable after loading.\n"
     ]
    },
    {
     "name": "stdout",
     "output_type": "stream",
     "text": [
      "INFO:tensorflow:Assets written to: logs\\model_init\\assets\n"
     ]
    },
    {
     "name": "stderr",
     "output_type": "stream",
     "text": [
      "INFO:tensorflow:Assets written to: logs\\model_init\\assets\n"
     ]
    },
    {
     "name": "stdout",
     "output_type": "stream",
     "text": [
      "86/86 [==============================] - 5s 58ms/step - loss: 0.0028 - val_loss: 0.0643\n",
      "Epoch 49/300\n",
      "86/86 [==============================] - 1s 7ms/step - loss: 0.0030 - val_loss: 0.0679\n",
      "Epoch 50/300\n",
      "86/86 [==============================] - 1s 7ms/step - loss: 0.0034 - val_loss: 0.0667\n",
      "Epoch 51/300\n",
      "81/86 [===========================>..] - ETA: 0s - loss: 0.0028"
     ]
    },
    {
     "name": "stderr",
     "output_type": "stream",
     "text": [
      "WARNING:absl:Found untraced functions such as lstm_cell_layer_call_fn, lstm_cell_layer_call_and_return_conditional_losses while saving (showing 2 of 2). These functions will not be directly callable after loading.\n"
     ]
    },
    {
     "name": "stdout",
     "output_type": "stream",
     "text": [
      "INFO:tensorflow:Assets written to: logs\\model_init\\assets\n"
     ]
    },
    {
     "name": "stderr",
     "output_type": "stream",
     "text": [
      "INFO:tensorflow:Assets written to: logs\\model_init\\assets\n"
     ]
    },
    {
     "name": "stdout",
     "output_type": "stream",
     "text": [
      "86/86 [==============================] - 4s 46ms/step - loss: 0.0029 - val_loss: 0.0604\n",
      "Epoch 52/300\n",
      "86/86 [==============================] - 1s 7ms/step - loss: 0.0031 - val_loss: 0.0662\n",
      "Epoch 53/300\n",
      "77/86 [=========================>....] - ETA: 0s - loss: 0.0039"
     ]
    },
    {
     "name": "stderr",
     "output_type": "stream",
     "text": [
      "WARNING:absl:Found untraced functions such as lstm_cell_layer_call_fn, lstm_cell_layer_call_and_return_conditional_losses while saving (showing 2 of 2). These functions will not be directly callable after loading.\n"
     ]
    },
    {
     "name": "stdout",
     "output_type": "stream",
     "text": [
      "INFO:tensorflow:Assets written to: logs\\model_init\\assets\n"
     ]
    },
    {
     "name": "stderr",
     "output_type": "stream",
     "text": [
      "INFO:tensorflow:Assets written to: logs\\model_init\\assets\n"
     ]
    },
    {
     "name": "stdout",
     "output_type": "stream",
     "text": [
      "86/86 [==============================] - 4s 43ms/step - loss: 0.0037 - val_loss: 0.0585\n",
      "Epoch 54/300\n",
      "86/86 [==============================] - 1s 6ms/step - loss: 0.0030 - val_loss: 0.0633\n",
      "Epoch 55/300\n",
      "86/86 [==============================] - 0s 6ms/step - loss: 0.0029 - val_loss: 0.0598\n",
      "Epoch 56/300\n",
      "86/86 [==============================] - 1s 6ms/step - loss: 0.0031 - val_loss: 0.0635\n",
      "Epoch 57/300\n",
      "86/86 [==============================] - 1s 6ms/step - loss: 0.0031 - val_loss: 0.0600\n",
      "Epoch 58/300\n",
      "86/86 [==============================] - 1s 6ms/step - loss: 0.0036 - val_loss: 0.0598\n",
      "Epoch 59/300\n",
      "86/86 [==============================] - 0s 6ms/step - loss: 0.0028 - val_loss: 0.0595\n",
      "Epoch 60/300\n",
      "86/86 [==============================] - 1s 6ms/step - loss: 0.0036 - val_loss: 0.0665\n",
      "Epoch 61/300\n",
      "86/86 [==============================] - 1s 6ms/step - loss: 0.0026 - val_loss: 0.0643\n",
      "Epoch 62/300\n",
      "84/86 [============================>.] - ETA: 0s - loss: 0.0029"
     ]
    },
    {
     "name": "stderr",
     "output_type": "stream",
     "text": [
      "WARNING:absl:Found untraced functions such as lstm_cell_layer_call_fn, lstm_cell_layer_call_and_return_conditional_losses while saving (showing 2 of 2). These functions will not be directly callable after loading.\n"
     ]
    },
    {
     "name": "stdout",
     "output_type": "stream",
     "text": [
      "INFO:tensorflow:Assets written to: logs\\model_init\\assets\n"
     ]
    },
    {
     "name": "stderr",
     "output_type": "stream",
     "text": [
      "INFO:tensorflow:Assets written to: logs\\model_init\\assets\n"
     ]
    },
    {
     "name": "stdout",
     "output_type": "stream",
     "text": [
      "86/86 [==============================] - 4s 45ms/step - loss: 0.0029 - val_loss: 0.0528\n",
      "Epoch 63/300\n",
      "86/86 [==============================] - 1s 7ms/step - loss: 0.0028 - val_loss: 0.0544\n",
      "Epoch 64/300\n",
      "86/86 [==============================] - 0s 5ms/step - loss: 0.0031 - val_loss: 0.0577\n",
      "Epoch 65/300\n",
      "86/86 [==============================] - 0s 6ms/step - loss: 0.0028 - val_loss: 0.0574\n",
      "Epoch 66/300\n",
      "86/86 [==============================] - 0s 5ms/step - loss: 0.0029 - val_loss: 0.0594\n",
      "Epoch 67/300\n",
      "86/86 [==============================] - 0s 5ms/step - loss: 0.0033 - val_loss: 0.0567\n",
      "Epoch 68/300\n",
      "86/86 [==============================] - 0s 5ms/step - loss: 0.0027 - val_loss: 0.0625\n",
      "Epoch 69/300\n",
      "86/86 [==============================] - 1s 6ms/step - loss: 0.0031 - val_loss: 0.0589\n",
      "Epoch 70/300\n",
      "86/86 [==============================] - 1s 6ms/step - loss: 0.0029 - val_loss: 0.0603\n",
      "Epoch 71/300\n",
      "86/86 [==============================] - 1s 6ms/step - loss: 0.0033 - val_loss: 0.0600\n",
      "Epoch 72/300\n",
      "86/86 [==============================] - 1s 6ms/step - loss: 0.0029 - val_loss: 0.0551\n",
      "Epoch 73/300\n",
      "86/86 [==============================] - 1s 12ms/step - loss: 0.0030 - val_loss: 0.0597\n",
      "Epoch 74/300\n",
      "86/86 [==============================] - 2s 20ms/step - loss: 0.0027 - val_loss: 0.0601\n",
      "Epoch 75/300\n",
      "86/86 [==============================] - 1s 6ms/step - loss: 0.0029 - val_loss: 0.0588\n",
      "Epoch 76/300\n",
      "86/86 [==============================] - 1s 8ms/step - loss: 0.0030 - val_loss: 0.0650\n",
      "Epoch 77/300\n",
      "86/86 [==============================] - 1s 7ms/step - loss: 0.0032 - val_loss: 0.0586\n",
      "Epoch 78/300\n",
      "86/86 [==============================] - 1s 9ms/step - loss: 0.0028 - val_loss: 0.0604\n",
      "Epoch 79/300\n",
      "86/86 [==============================] - 1s 6ms/step - loss: 0.0027 - val_loss: 0.0598\n",
      "Epoch 80/300\n",
      "86/86 [==============================] - 1s 6ms/step - loss: 0.0029 - val_loss: 0.0555\n",
      "Epoch 81/300\n",
      "86/86 [==============================] - 1s 6ms/step - loss: 0.0029 - val_loss: 0.0675\n",
      "Epoch 82/300\n",
      "86/86 [==============================] - 1s 6ms/step - loss: 0.0030 - val_loss: 0.0613\n",
      "Epoch 83/300\n",
      "86/86 [==============================] - 1s 6ms/step - loss: 0.0028 - val_loss: 0.0582\n",
      "Epoch 84/300\n",
      "86/86 [==============================] - 1s 6ms/step - loss: 0.0028 - val_loss: 0.0613\n",
      "Epoch 85/300\n",
      "86/86 [==============================] - 1s 6ms/step - loss: 0.0028 - val_loss: 0.0592\n",
      "Epoch 86/300\n",
      "86/86 [==============================] - 1s 6ms/step - loss: 0.0029 - val_loss: 0.0616\n",
      "Epoch 87/300\n",
      "86/86 [==============================] - 1s 6ms/step - loss: 0.0030 - val_loss: 0.0577\n",
      "Epoch 88/300\n",
      "86/86 [==============================] - 1s 6ms/step - loss: 0.0031 - val_loss: 0.0634\n",
      "Epoch 89/300\n",
      "86/86 [==============================] - 1s 6ms/step - loss: 0.0028 - val_loss: 0.0543\n",
      "Epoch 90/300\n",
      "86/86 [==============================] - 1s 6ms/step - loss: 0.0031 - val_loss: 0.0580\n",
      "Epoch 91/300\n",
      "86/86 [==============================] - 1s 7ms/step - loss: 0.0029 - val_loss: 0.0565\n",
      "Epoch 92/300\n",
      "86/86 [==============================] - 1s 6ms/step - loss: 0.0029 - val_loss: 0.0608\n",
      "Epoch 93/300\n",
      "84/86 [============================>.] - ETA: 0s - loss: 0.0029"
     ]
    },
    {
     "name": "stderr",
     "output_type": "stream",
     "text": [
      "WARNING:absl:Found untraced functions such as lstm_cell_layer_call_fn, lstm_cell_layer_call_and_return_conditional_losses while saving (showing 2 of 2). These functions will not be directly callable after loading.\n"
     ]
    },
    {
     "name": "stdout",
     "output_type": "stream",
     "text": [
      "INFO:tensorflow:Assets written to: logs\\model_init\\assets\n"
     ]
    },
    {
     "name": "stderr",
     "output_type": "stream",
     "text": [
      "INFO:tensorflow:Assets written to: logs\\model_init\\assets\n"
     ]
    },
    {
     "name": "stdout",
     "output_type": "stream",
     "text": [
      "86/86 [==============================] - 4s 46ms/step - loss: 0.0029 - val_loss: 0.0500\n",
      "Epoch 94/300\n",
      "86/86 [==============================] - 1s 6ms/step - loss: 0.0029 - val_loss: 0.0555\n",
      "Epoch 95/300\n",
      "86/86 [==============================] - 0s 6ms/step - loss: 0.0027 - val_loss: 0.0580\n",
      "Epoch 96/300\n",
      "86/86 [==============================] - 1s 6ms/step - loss: 0.0028 - val_loss: 0.0545\n",
      "Epoch 97/300\n",
      "86/86 [==============================] - 1s 6ms/step - loss: 0.0034 - val_loss: 0.0697\n",
      "Epoch 98/300\n",
      "86/86 [==============================] - 0s 6ms/step - loss: 0.0031 - val_loss: 0.0572\n",
      "Epoch 99/300\n",
      "86/86 [==============================] - 1s 6ms/step - loss: 0.0027 - val_loss: 0.0577\n",
      "Epoch 100/300\n",
      "86/86 [==============================] - 1s 6ms/step - loss: 0.0028 - val_loss: 0.0654\n",
      "Epoch 101/300\n",
      "86/86 [==============================] - 1s 6ms/step - loss: 0.0029 - val_loss: 0.0571\n",
      "Epoch 102/300\n",
      "86/86 [==============================] - 1s 6ms/step - loss: 0.0027 - val_loss: 0.0661\n",
      "Epoch 103/300\n",
      "86/86 [==============================] - 1s 6ms/step - loss: 0.0031 - val_loss: 0.0637\n",
      "Epoch 104/300\n",
      "86/86 [==============================] - 1s 6ms/step - loss: 0.0029 - val_loss: 0.0606\n",
      "Epoch 105/300\n",
      "86/86 [==============================] - 1s 6ms/step - loss: 0.0029 - val_loss: 0.0503\n",
      "Epoch 106/300\n",
      "82/86 [===========================>..] - ETA: 0s - loss: 0.0029"
     ]
    },
    {
     "name": "stderr",
     "output_type": "stream",
     "text": [
      "WARNING:absl:Found untraced functions such as lstm_cell_layer_call_fn, lstm_cell_layer_call_and_return_conditional_losses while saving (showing 2 of 2). These functions will not be directly callable after loading.\n"
     ]
    },
    {
     "name": "stdout",
     "output_type": "stream",
     "text": [
      "INFO:tensorflow:Assets written to: logs\\model_init\\assets\n"
     ]
    },
    {
     "name": "stderr",
     "output_type": "stream",
     "text": [
      "INFO:tensorflow:Assets written to: logs\\model_init\\assets\n"
     ]
    },
    {
     "name": "stdout",
     "output_type": "stream",
     "text": [
      "86/86 [==============================] - 4s 44ms/step - loss: 0.0028 - val_loss: 0.0488\n",
      "Epoch 107/300\n",
      "86/86 [==============================] - 1s 6ms/step - loss: 0.0030 - val_loss: 0.0501\n",
      "Epoch 108/300\n",
      "86/86 [==============================] - 1s 6ms/step - loss: 0.0028 - val_loss: 0.0554\n",
      "Epoch 109/300\n",
      "86/86 [==============================] - 1s 7ms/step - loss: 0.0028 - val_loss: 0.0568\n",
      "Epoch 110/300\n",
      "86/86 [==============================] - 1s 6ms/step - loss: 0.0028 - val_loss: 0.0556\n",
      "Epoch 111/300\n",
      "86/86 [==============================] - 1s 6ms/step - loss: 0.0026 - val_loss: 0.0569\n",
      "Epoch 112/300\n",
      "86/86 [==============================] - 1s 6ms/step - loss: 0.0030 - val_loss: 0.0584\n",
      "Epoch 113/300\n",
      "86/86 [==============================] - 1s 6ms/step - loss: 0.0030 - val_loss: 0.0580\n",
      "Epoch 114/300\n",
      "86/86 [==============================] - 1s 6ms/step - loss: 0.0029 - val_loss: 0.0539\n",
      "Epoch 115/300\n",
      "86/86 [==============================] - 1s 6ms/step - loss: 0.0027 - val_loss: 0.0577\n",
      "Epoch 116/300\n",
      "86/86 [==============================] - 1s 7ms/step - loss: 0.0027 - val_loss: 0.0613\n",
      "Epoch 117/300\n",
      "86/86 [==============================] - 1s 7ms/step - loss: 0.0028 - val_loss: 0.0641\n",
      "Epoch 118/300\n",
      "86/86 [==============================] - 1s 7ms/step - loss: 0.0030 - val_loss: 0.0607\n",
      "Epoch 119/300\n",
      "86/86 [==============================] - 1s 7ms/step - loss: 0.0027 - val_loss: 0.0591\n",
      "Epoch 120/300\n",
      "86/86 [==============================] - 1s 7ms/step - loss: 0.0027 - val_loss: 0.0608\n",
      "Epoch 121/300\n",
      "86/86 [==============================] - 1s 7ms/step - loss: 0.0030 - val_loss: 0.0529\n",
      "Epoch 122/300\n",
      "86/86 [==============================] - 1s 6ms/step - loss: 0.0029 - val_loss: 0.0593\n",
      "Epoch 123/300\n",
      "86/86 [==============================] - 1s 6ms/step - loss: 0.0028 - val_loss: 0.0607\n",
      "Epoch 124/300\n",
      "86/86 [==============================] - 0s 6ms/step - loss: 0.0026 - val_loss: 0.0591\n",
      "Epoch 125/300\n",
      "86/86 [==============================] - 1s 6ms/step - loss: 0.0027 - val_loss: 0.0651\n",
      "Epoch 126/300\n",
      "86/86 [==============================] - 1s 6ms/step - loss: 0.0029 - val_loss: 0.0597\n",
      "Epoch 127/300\n",
      "86/86 [==============================] - 1s 6ms/step - loss: 0.0027 - val_loss: 0.0543\n",
      "Epoch 128/300\n",
      "86/86 [==============================] - 1s 6ms/step - loss: 0.0032 - val_loss: 0.0625\n",
      "Epoch 129/300\n",
      "86/86 [==============================] - 1s 6ms/step - loss: 0.0027 - val_loss: 0.0601\n",
      "Epoch 130/300\n",
      "86/86 [==============================] - 1s 6ms/step - loss: 0.0028 - val_loss: 0.0610\n",
      "Epoch 131/300\n",
      "86/86 [==============================] - 1s 7ms/step - loss: 0.0027 - val_loss: 0.0611\n",
      "Epoch 132/300\n",
      "86/86 [==============================] - 1s 6ms/step - loss: 0.0027 - val_loss: 0.0587\n",
      "Epoch 133/300\n",
      "86/86 [==============================] - 1s 6ms/step - loss: 0.0029 - val_loss: 0.0531\n",
      "Epoch 134/300\n",
      "86/86 [==============================] - 0s 6ms/step - loss: 0.0026 - val_loss: 0.0578\n",
      "Epoch 135/300\n",
      "86/86 [==============================] - 1s 6ms/step - loss: 0.0026 - val_loss: 0.0592\n",
      "Epoch 136/300\n",
      "86/86 [==============================] - 1s 6ms/step - loss: 0.0028 - val_loss: 0.0646\n",
      "Epoch 137/300\n",
      "86/86 [==============================] - 1s 6ms/step - loss: 0.0031 - val_loss: 0.0608\n",
      "Epoch 138/300\n",
      "86/86 [==============================] - 1s 6ms/step - loss: 0.0028 - val_loss: 0.0513\n",
      "Epoch 139/300\n",
      "86/86 [==============================] - 1s 7ms/step - loss: 0.0027 - val_loss: 0.0531\n",
      "Epoch 140/300\n",
      "86/86 [==============================] - 1s 6ms/step - loss: 0.0028 - val_loss: 0.0600\n",
      "Epoch 141/300\n",
      "86/86 [==============================] - 1s 6ms/step - loss: 0.0029 - val_loss: 0.0648\n",
      "Epoch 142/300\n",
      "86/86 [==============================] - 1s 6ms/step - loss: 0.0030 - val_loss: 0.0607\n",
      "Epoch 143/300\n",
      "86/86 [==============================] - 1s 6ms/step - loss: 0.0029 - val_loss: 0.0552\n",
      "Epoch 144/300\n",
      "86/86 [==============================] - 1s 6ms/step - loss: 0.0028 - val_loss: 0.0596\n",
      "Epoch 145/300\n",
      "86/86 [==============================] - 1s 6ms/step - loss: 0.0027 - val_loss: 0.0610\n",
      "Epoch 146/300\n",
      "86/86 [==============================] - 1s 6ms/step - loss: 0.0032 - val_loss: 0.0591\n",
      "Epoch 147/300\n",
      "86/86 [==============================] - 1s 6ms/step - loss: 0.0029 - val_loss: 0.0656\n",
      "Epoch 148/300\n",
      "86/86 [==============================] - 1s 7ms/step - loss: 0.0028 - val_loss: 0.0594\n",
      "Epoch 149/300\n",
      "86/86 [==============================] - 1s 8ms/step - loss: 0.0028 - val_loss: 0.0617\n",
      "Epoch 150/300\n",
      "86/86 [==============================] - 1s 9ms/step - loss: 0.0027 - val_loss: 0.0643\n",
      "Epoch 151/300\n",
      "86/86 [==============================] - 1s 10ms/step - loss: 0.0027 - val_loss: 0.0654\n",
      "Epoch 152/300\n",
      "86/86 [==============================] - 1s 9ms/step - loss: 0.0027 - val_loss: 0.0600\n",
      "Epoch 153/300\n",
      "86/86 [==============================] - 1s 6ms/step - loss: 0.0026 - val_loss: 0.0558\n",
      "Epoch 154/300\n",
      "86/86 [==============================] - 1s 6ms/step - loss: 0.0027 - val_loss: 0.0565\n",
      "Epoch 155/300\n",
      "86/86 [==============================] - 1s 7ms/step - loss: 0.0026 - val_loss: 0.0617\n",
      "Epoch 156/300\n",
      "86/86 [==============================] - 1s 7ms/step - loss: 0.0029 - val_loss: 0.0611\n",
      "Epoch 157/300\n",
      "86/86 [==============================] - 1s 7ms/step - loss: 0.0026 - val_loss: 0.0595\n",
      "Epoch 158/300\n",
      "86/86 [==============================] - 1s 7ms/step - loss: 0.0029 - val_loss: 0.0606\n",
      "Epoch 159/300\n",
      "86/86 [==============================] - 1s 6ms/step - loss: 0.0030 - val_loss: 0.0562\n",
      "Epoch 160/300\n",
      "86/86 [==============================] - 1s 6ms/step - loss: 0.0028 - val_loss: 0.0519\n",
      "Epoch 161/300\n",
      "86/86 [==============================] - 1s 6ms/step - loss: 0.0028 - val_loss: 0.0582\n",
      "Epoch 162/300\n",
      "86/86 [==============================] - 1s 6ms/step - loss: 0.0028 - val_loss: 0.0596\n",
      "Epoch 163/300\n",
      "86/86 [==============================] - 1s 6ms/step - loss: 0.0026 - val_loss: 0.0604\n",
      "Epoch 164/300\n",
      "86/86 [==============================] - 1s 6ms/step - loss: 0.0026 - val_loss: 0.0607\n",
      "Epoch 165/300\n",
      "86/86 [==============================] - 1s 6ms/step - loss: 0.0027 - val_loss: 0.0643\n",
      "Epoch 166/300\n",
      "86/86 [==============================] - 1s 6ms/step - loss: 0.0026 - val_loss: 0.0681\n",
      "Epoch 167/300\n",
      "86/86 [==============================] - 1s 6ms/step - loss: 0.0028 - val_loss: 0.0669\n",
      "Epoch 168/300\n",
      "86/86 [==============================] - 1s 6ms/step - loss: 0.0031 - val_loss: 0.0639\n",
      "Epoch 169/300\n",
      "86/86 [==============================] - 1s 6ms/step - loss: 0.0027 - val_loss: 0.0615\n",
      "Epoch 170/300\n",
      "86/86 [==============================] - 1s 6ms/step - loss: 0.0027 - val_loss: 0.0619\n",
      "Epoch 171/300\n",
      "86/86 [==============================] - 1s 6ms/step - loss: 0.0029 - val_loss: 0.0658\n",
      "Epoch 172/300\n",
      "86/86 [==============================] - 1s 6ms/step - loss: 0.0026 - val_loss: 0.0609\n",
      "Epoch 173/300\n",
      "86/86 [==============================] - 1s 6ms/step - loss: 0.0030 - val_loss: 0.0610\n",
      "Epoch 174/300\n",
      "86/86 [==============================] - 1s 6ms/step - loss: 0.0028 - val_loss: 0.0641\n",
      "Epoch 175/300\n",
      "86/86 [==============================] - 1s 6ms/step - loss: 0.0028 - val_loss: 0.0659\n",
      "Epoch 176/300\n",
      "86/86 [==============================] - 1s 6ms/step - loss: 0.0029 - val_loss: 0.0619\n",
      "Epoch 177/300\n",
      "86/86 [==============================] - 0s 6ms/step - loss: 0.0026 - val_loss: 0.0615\n",
      "Epoch 178/300\n",
      "86/86 [==============================] - 1s 6ms/step - loss: 0.0027 - val_loss: 0.0664\n",
      "Epoch 179/300\n",
      "86/86 [==============================] - 1s 6ms/step - loss: 0.0026 - val_loss: 0.0630\n",
      "Epoch 180/300\n",
      "86/86 [==============================] - 0s 6ms/step - loss: 0.0027 - val_loss: 0.0596\n",
      "Epoch 181/300\n",
      "86/86 [==============================] - 1s 6ms/step - loss: 0.0026 - val_loss: 0.0646\n",
      "Epoch 182/300\n",
      "86/86 [==============================] - 1s 6ms/step - loss: 0.0027 - val_loss: 0.0555\n",
      "Epoch 183/300\n",
      "86/86 [==============================] - 1s 6ms/step - loss: 0.0028 - val_loss: 0.0597\n",
      "Epoch 184/300\n",
      "86/86 [==============================] - 1s 6ms/step - loss: 0.0025 - val_loss: 0.0624\n",
      "Epoch 185/300\n",
      "86/86 [==============================] - 1s 6ms/step - loss: 0.0027 - val_loss: 0.0675\n",
      "Epoch 186/300\n",
      "86/86 [==============================] - 0s 6ms/step - loss: 0.0029 - val_loss: 0.0659\n",
      "Epoch 187/300\n",
      "86/86 [==============================] - 1s 6ms/step - loss: 0.0026 - val_loss: 0.0616\n",
      "Epoch 188/300\n",
      "86/86 [==============================] - 1s 6ms/step - loss: 0.0028 - val_loss: 0.0663\n",
      "Epoch 189/300\n",
      "86/86 [==============================] - 1s 6ms/step - loss: 0.0026 - val_loss: 0.0710\n",
      "Epoch 190/300\n",
      "86/86 [==============================] - 1s 6ms/step - loss: 0.0029 - val_loss: 0.0553\n",
      "Epoch 191/300\n",
      "86/86 [==============================] - 0s 6ms/step - loss: 0.0028 - val_loss: 0.0600\n",
      "Epoch 192/300\n",
      "86/86 [==============================] - 0s 6ms/step - loss: 0.0028 - val_loss: 0.0643\n",
      "Epoch 193/300\n",
      "86/86 [==============================] - 0s 6ms/step - loss: 0.0027 - val_loss: 0.0659\n",
      "Epoch 194/300\n",
      "86/86 [==============================] - 1s 6ms/step - loss: 0.0027 - val_loss: 0.0609\n",
      "Epoch 195/300\n",
      "86/86 [==============================] - 1s 6ms/step - loss: 0.0028 - val_loss: 0.0646\n",
      "Epoch 196/300\n",
      "86/86 [==============================] - 0s 6ms/step - loss: 0.0027 - val_loss: 0.0676\n",
      "Epoch 197/300\n",
      "86/86 [==============================] - 0s 6ms/step - loss: 0.0026 - val_loss: 0.0674\n",
      "Epoch 198/300\n",
      "86/86 [==============================] - 0s 6ms/step - loss: 0.0027 - val_loss: 0.0669\n",
      "Epoch 199/300\n",
      "86/86 [==============================] - 0s 6ms/step - loss: 0.0029 - val_loss: 0.0712\n",
      "Epoch 200/300\n",
      "86/86 [==============================] - 0s 5ms/step - loss: 0.0028 - val_loss: 0.0676\n",
      "Epoch 201/300\n",
      "86/86 [==============================] - 0s 5ms/step - loss: 0.0027 - val_loss: 0.0703\n",
      "Epoch 202/300\n",
      "86/86 [==============================] - 1s 6ms/step - loss: 0.0027 - val_loss: 0.0759\n",
      "Epoch 203/300\n",
      "86/86 [==============================] - 0s 6ms/step - loss: 0.0028 - val_loss: 0.0720\n",
      "Epoch 204/300\n",
      "86/86 [==============================] - 0s 6ms/step - loss: 0.0030 - val_loss: 0.0729\n",
      "Epoch 205/300\n",
      "86/86 [==============================] - 0s 6ms/step - loss: 0.0026 - val_loss: 0.0641\n",
      "Epoch 206/300\n",
      "86/86 [==============================] - 0s 5ms/step - loss: 0.0027 - val_loss: 0.0676\n",
      "Epoch 207/300\n",
      "86/86 [==============================] - 0s 5ms/step - loss: 0.0028 - val_loss: 0.0741\n",
      "Epoch 208/300\n",
      "86/86 [==============================] - 0s 5ms/step - loss: 0.0027 - val_loss: 0.0667\n",
      "Epoch 209/300\n",
      "86/86 [==============================] - 0s 5ms/step - loss: 0.0026 - val_loss: 0.0681\n",
      "Epoch 210/300\n",
      "86/86 [==============================] - 0s 5ms/step - loss: 0.0026 - val_loss: 0.0638\n",
      "Epoch 211/300\n",
      "86/86 [==============================] - 0s 6ms/step - loss: 0.0026 - val_loss: 0.0673\n",
      "Epoch 212/300\n",
      "86/86 [==============================] - 0s 6ms/step - loss: 0.0027 - val_loss: 0.0667\n",
      "Epoch 213/300\n",
      "86/86 [==============================] - 0s 6ms/step - loss: 0.0026 - val_loss: 0.0665\n",
      "Epoch 214/300\n",
      "86/86 [==============================] - 0s 6ms/step - loss: 0.0029 - val_loss: 0.0687\n",
      "Epoch 215/300\n",
      "86/86 [==============================] - 0s 6ms/step - loss: 0.0029 - val_loss: 0.0673\n",
      "Epoch 216/300\n",
      "86/86 [==============================] - 0s 6ms/step - loss: 0.0026 - val_loss: 0.0707\n",
      "Epoch 217/300\n",
      "86/86 [==============================] - 0s 6ms/step - loss: 0.0027 - val_loss: 0.0661\n",
      "Epoch 218/300\n",
      "86/86 [==============================] - 0s 5ms/step - loss: 0.0026 - val_loss: 0.0686\n",
      "Epoch 219/300\n",
      "86/86 [==============================] - 0s 5ms/step - loss: 0.0025 - val_loss: 0.0709\n",
      "Epoch 220/300\n",
      "86/86 [==============================] - 0s 6ms/step - loss: 0.0025 - val_loss: 0.0702\n",
      "Epoch 221/300\n",
      "86/86 [==============================] - 0s 5ms/step - loss: 0.0026 - val_loss: 0.0712\n",
      "Epoch 222/300\n",
      "86/86 [==============================] - 0s 6ms/step - loss: 0.0026 - val_loss: 0.0730\n",
      "Epoch 223/300\n",
      "86/86 [==============================] - 0s 6ms/step - loss: 0.0026 - val_loss: 0.0677\n",
      "Epoch 224/300\n",
      "86/86 [==============================] - 0s 6ms/step - loss: 0.0026 - val_loss: 0.0690\n",
      "Epoch 225/300\n",
      "86/86 [==============================] - 1s 7ms/step - loss: 0.0025 - val_loss: 0.0675\n",
      "Epoch 226/300\n",
      "86/86 [==============================] - 1s 6ms/step - loss: 0.0026 - val_loss: 0.0704\n",
      "Epoch 227/300\n",
      "86/86 [==============================] - 1s 7ms/step - loss: 0.0028 - val_loss: 0.0699\n",
      "Epoch 228/300\n",
      "86/86 [==============================] - 0s 6ms/step - loss: 0.0028 - val_loss: 0.0675\n",
      "Epoch 229/300\n",
      "86/86 [==============================] - 0s 6ms/step - loss: 0.0026 - val_loss: 0.0671\n",
      "Epoch 230/300\n",
      "86/86 [==============================] - 1s 6ms/step - loss: 0.0025 - val_loss: 0.0689\n",
      "Epoch 231/300\n",
      "86/86 [==============================] - 1s 7ms/step - loss: 0.0026 - val_loss: 0.0741\n",
      "Epoch 232/300\n",
      "86/86 [==============================] - 1s 6ms/step - loss: 0.0025 - val_loss: 0.0736\n",
      "Epoch 233/300\n",
      "86/86 [==============================] - 0s 6ms/step - loss: 0.0026 - val_loss: 0.0733\n",
      "Epoch 234/300\n",
      "86/86 [==============================] - 1s 6ms/step - loss: 0.0024 - val_loss: 0.0745\n",
      "Epoch 235/300\n",
      "86/86 [==============================] - 0s 5ms/step - loss: 0.0028 - val_loss: 0.0620\n",
      "Epoch 236/300\n",
      "86/86 [==============================] - 0s 5ms/step - loss: 0.0025 - val_loss: 0.0636\n",
      "Epoch 237/300\n",
      "86/86 [==============================] - 0s 5ms/step - loss: 0.0027 - val_loss: 0.0663\n",
      "Epoch 238/300\n",
      "86/86 [==============================] - 0s 5ms/step - loss: 0.0026 - val_loss: 0.0697\n",
      "Epoch 239/300\n",
      "86/86 [==============================] - 0s 6ms/step - loss: 0.0026 - val_loss: 0.0724\n",
      "Epoch 240/300\n",
      "86/86 [==============================] - 0s 6ms/step - loss: 0.0025 - val_loss: 0.0683\n",
      "Epoch 241/300\n",
      "86/86 [==============================] - 1s 6ms/step - loss: 0.0026 - val_loss: 0.0611\n",
      "Epoch 242/300\n",
      "86/86 [==============================] - 0s 6ms/step - loss: 0.0029 - val_loss: 0.0651\n",
      "Epoch 243/300\n",
      "86/86 [==============================] - 0s 6ms/step - loss: 0.0025 - val_loss: 0.0667\n",
      "Epoch 244/300\n",
      "86/86 [==============================] - 0s 6ms/step - loss: 0.0025 - val_loss: 0.0635\n",
      "Epoch 245/300\n",
      "86/86 [==============================] - 1s 6ms/step - loss: 0.0027 - val_loss: 0.0716\n",
      "Epoch 246/300\n",
      "86/86 [==============================] - 0s 5ms/step - loss: 0.0027 - val_loss: 0.0685\n",
      "Epoch 247/300\n",
      "86/86 [==============================] - 0s 6ms/step - loss: 0.0026 - val_loss: 0.0713\n",
      "Epoch 248/300\n",
      "86/86 [==============================] - 0s 5ms/step - loss: 0.0026 - val_loss: 0.0727\n",
      "Epoch 249/300\n",
      "86/86 [==============================] - 0s 6ms/step - loss: 0.0025 - val_loss: 0.0681\n",
      "Epoch 250/300\n",
      "86/86 [==============================] - 0s 6ms/step - loss: 0.0025 - val_loss: 0.0667\n",
      "Epoch 251/300\n",
      "86/86 [==============================] - 0s 6ms/step - loss: 0.0025 - val_loss: 0.0690\n",
      "Epoch 252/300\n",
      "86/86 [==============================] - 0s 5ms/step - loss: 0.0023 - val_loss: 0.0703\n",
      "Epoch 253/300\n",
      "86/86 [==============================] - 0s 5ms/step - loss: 0.0024 - val_loss: 0.0712\n",
      "Epoch 254/300\n",
      "86/86 [==============================] - 0s 5ms/step - loss: 0.0025 - val_loss: 0.0686\n",
      "Epoch 255/300\n",
      "86/86 [==============================] - 0s 5ms/step - loss: 0.0024 - val_loss: 0.0727\n",
      "Epoch 256/300\n",
      "86/86 [==============================] - 0s 6ms/step - loss: 0.0026 - val_loss: 0.0726\n",
      "Epoch 257/300\n",
      "86/86 [==============================] - 0s 6ms/step - loss: 0.0024 - val_loss: 0.0736\n",
      "Epoch 258/300\n",
      "86/86 [==============================] - 1s 6ms/step - loss: 0.0024 - val_loss: 0.0741\n",
      "Epoch 259/300\n",
      "86/86 [==============================] - 0s 6ms/step - loss: 0.0027 - val_loss: 0.0729\n",
      "Epoch 260/300\n",
      "86/86 [==============================] - 1s 6ms/step - loss: 0.0026 - val_loss: 0.0691\n",
      "Epoch 261/300\n",
      "86/86 [==============================] - 0s 6ms/step - loss: 0.0025 - val_loss: 0.0685\n",
      "Epoch 262/300\n",
      "86/86 [==============================] - 1s 6ms/step - loss: 0.0025 - val_loss: 0.0702\n",
      "Epoch 263/300\n",
      "86/86 [==============================] - 0s 6ms/step - loss: 0.0026 - val_loss: 0.0757\n",
      "Epoch 264/300\n",
      "86/86 [==============================] - 1s 6ms/step - loss: 0.0028 - val_loss: 0.0748\n",
      "Epoch 265/300\n",
      "86/86 [==============================] - 0s 5ms/step - loss: 0.0024 - val_loss: 0.0715\n",
      "Epoch 266/300\n",
      "86/86 [==============================] - 0s 5ms/step - loss: 0.0024 - val_loss: 0.0752\n",
      "Epoch 267/300\n",
      "86/86 [==============================] - 0s 5ms/step - loss: 0.0024 - val_loss: 0.0723\n",
      "Epoch 268/300\n",
      "86/86 [==============================] - 0s 5ms/step - loss: 0.0024 - val_loss: 0.0745\n",
      "Epoch 269/300\n",
      "86/86 [==============================] - 0s 6ms/step - loss: 0.0026 - val_loss: 0.0749\n",
      "Epoch 270/300\n",
      "86/86 [==============================] - 0s 6ms/step - loss: 0.0024 - val_loss: 0.0698\n",
      "Epoch 271/300\n",
      "86/86 [==============================] - 0s 6ms/step - loss: 0.0025 - val_loss: 0.0693\n",
      "Epoch 272/300\n",
      "86/86 [==============================] - 0s 5ms/step - loss: 0.0024 - val_loss: 0.0705\n",
      "Epoch 273/300\n",
      "86/86 [==============================] - 0s 5ms/step - loss: 0.0026 - val_loss: 0.0716\n",
      "Epoch 274/300\n",
      "86/86 [==============================] - 0s 6ms/step - loss: 0.0027 - val_loss: 0.0755\n",
      "Epoch 275/300\n",
      "86/86 [==============================] - 0s 6ms/step - loss: 0.0024 - val_loss: 0.0763\n",
      "Epoch 276/300\n",
      "86/86 [==============================] - 0s 6ms/step - loss: 0.0024 - val_loss: 0.0694\n",
      "Epoch 277/300\n",
      "86/86 [==============================] - 1s 6ms/step - loss: 0.0024 - val_loss: 0.0704\n",
      "Epoch 278/300\n",
      "86/86 [==============================] - 0s 6ms/step - loss: 0.0028 - val_loss: 0.0705\n",
      "Epoch 279/300\n",
      "86/86 [==============================] - 1s 6ms/step - loss: 0.0025 - val_loss: 0.0715\n",
      "Epoch 280/300\n",
      "86/86 [==============================] - 0s 6ms/step - loss: 0.0027 - val_loss: 0.0705\n",
      "Epoch 281/300\n",
      "86/86 [==============================] - 0s 6ms/step - loss: 0.0024 - val_loss: 0.0700\n",
      "Epoch 282/300\n",
      "86/86 [==============================] - 0s 6ms/step - loss: 0.0026 - val_loss: 0.0724\n",
      "Epoch 283/300\n",
      "86/86 [==============================] - 0s 6ms/step - loss: 0.0024 - val_loss: 0.0714\n",
      "Epoch 284/300\n",
      "86/86 [==============================] - 0s 5ms/step - loss: 0.0025 - val_loss: 0.0738\n",
      "Epoch 285/300\n",
      "86/86 [==============================] - 0s 6ms/step - loss: 0.0023 - val_loss: 0.0764\n",
      "Epoch 286/300\n",
      "86/86 [==============================] - 0s 6ms/step - loss: 0.0023 - val_loss: 0.0724\n",
      "Epoch 287/300\n",
      "86/86 [==============================] - 0s 6ms/step - loss: 0.0026 - val_loss: 0.0656\n",
      "Epoch 288/300\n",
      "86/86 [==============================] - 1s 6ms/step - loss: 0.0024 - val_loss: 0.0679\n",
      "Epoch 289/300\n",
      "86/86 [==============================] - 1s 6ms/step - loss: 0.0026 - val_loss: 0.0729\n",
      "Epoch 290/300\n",
      "86/86 [==============================] - 1s 6ms/step - loss: 0.0025 - val_loss: 0.0693\n",
      "Epoch 291/300\n",
      "86/86 [==============================] - 1s 6ms/step - loss: 0.0025 - val_loss: 0.0690\n",
      "Epoch 292/300\n",
      "86/86 [==============================] - 0s 6ms/step - loss: 0.0023 - val_loss: 0.0691\n",
      "Epoch 293/300\n",
      "86/86 [==============================] - 0s 6ms/step - loss: 0.0025 - val_loss: 0.0634\n",
      "Epoch 294/300\n",
      "86/86 [==============================] - 0s 6ms/step - loss: 0.0025 - val_loss: 0.0680\n",
      "Epoch 295/300\n",
      "86/86 [==============================] - 0s 6ms/step - loss: 0.0025 - val_loss: 0.0699\n",
      "Epoch 296/300\n",
      "86/86 [==============================] - 1s 6ms/step - loss: 0.0023 - val_loss: 0.0653\n",
      "Epoch 297/300\n",
      "86/86 [==============================] - 1s 6ms/step - loss: 0.0024 - val_loss: 0.0667\n",
      "Epoch 298/300\n",
      "86/86 [==============================] - 1s 6ms/step - loss: 0.0023 - val_loss: 0.0720\n",
      "Epoch 299/300\n",
      "86/86 [==============================] - 1s 6ms/step - loss: 0.0025 - val_loss: 0.0733\n",
      "Epoch 300/300\n",
      "86/86 [==============================] - 0s 6ms/step - loss: 0.0024 - val_loss: 0.0697\n"
     ]
    }
   ],
   "source": [
    "\n",
    "history=model.fit(x_train,y_train,epochs=epochs,validation_data=(x_val,y_val),callbacks=cp)"
   ]
  },
  {
   "cell_type": "code",
   "execution_count": 15,
   "metadata": {},
   "outputs": [],
   "source": [
    "from tensorflow.keras.models import load_model\n",
    "model=load_model(logspath)"
   ]
  },
  {
   "cell_type": "code",
   "execution_count": 16,
   "metadata": {},
   "outputs": [
    {
     "name": "stdout",
     "output_type": "stream",
     "text": [
      "86/86 [==============================] - 1s 3ms/step\n"
     ]
    }
   ],
   "source": [
    "train_predictions=model.predict(x_train).flatten()\n",
    "yflat=y_train.flatten()\n"
   ]
  },
  {
   "cell_type": "code",
   "execution_count": 17,
   "metadata": {},
   "outputs": [
    {
     "data": {
      "text/plain": [
       "((2736,), (2736,), (2736, 10, 1), (2736,))"
      ]
     },
     "execution_count": 17,
     "metadata": {},
     "output_type": "execute_result"
    }
   ],
   "source": [
    "train_predictions.shape,y_train.shape,x_train.shape,yflat.shape\n",
    "# print(y_train)"
   ]
  },
  {
   "cell_type": "code",
   "execution_count": 18,
   "metadata": {},
   "outputs": [
    {
     "name": "stdout",
     "output_type": "stream",
     "text": [
      "86/86 [==============================] - 0s 3ms/step\n"
     ]
    },
    {
     "data": {
      "text/html": [
       "<div>\n",
       "<style scoped>\n",
       "    .dataframe tbody tr th:only-of-type {\n",
       "        vertical-align: middle;\n",
       "    }\n",
       "\n",
       "    .dataframe tbody tr th {\n",
       "        vertical-align: top;\n",
       "    }\n",
       "\n",
       "    .dataframe thead th {\n",
       "        text-align: right;\n",
       "    }\n",
       "</style>\n",
       "<table border=\"1\" class=\"dataframe\">\n",
       "  <thead>\n",
       "    <tr style=\"text-align: right;\">\n",
       "      <th></th>\n",
       "      <th>Train Predictions</th>\n",
       "      <th>Actuals</th>\n",
       "    </tr>\n",
       "  </thead>\n",
       "  <tbody>\n",
       "    <tr>\n",
       "      <th>0</th>\n",
       "      <td>-0.522700</td>\n",
       "      <td>-0.526011</td>\n",
       "    </tr>\n",
       "    <tr>\n",
       "      <th>1</th>\n",
       "      <td>-0.522212</td>\n",
       "      <td>-0.523423</td>\n",
       "    </tr>\n",
       "    <tr>\n",
       "      <th>2</th>\n",
       "      <td>-0.519961</td>\n",
       "      <td>-0.522440</td>\n",
       "    </tr>\n",
       "    <tr>\n",
       "      <th>3</th>\n",
       "      <td>-0.518895</td>\n",
       "      <td>-0.521573</td>\n",
       "    </tr>\n",
       "    <tr>\n",
       "      <th>4</th>\n",
       "      <td>-0.518100</td>\n",
       "      <td>-0.520951</td>\n",
       "    </tr>\n",
       "    <tr>\n",
       "      <th>...</th>\n",
       "      <td>...</td>\n",
       "      <td>...</td>\n",
       "    </tr>\n",
       "    <tr>\n",
       "      <th>2731</th>\n",
       "      <td>3.182306</td>\n",
       "      <td>3.025802</td>\n",
       "    </tr>\n",
       "    <tr>\n",
       "      <th>2732</th>\n",
       "      <td>3.087418</td>\n",
       "      <td>3.171055</td>\n",
       "    </tr>\n",
       "    <tr>\n",
       "      <th>2733</th>\n",
       "      <td>3.222336</td>\n",
       "      <td>3.307638</td>\n",
       "    </tr>\n",
       "    <tr>\n",
       "      <th>2734</th>\n",
       "      <td>3.341951</td>\n",
       "      <td>3.213757</td>\n",
       "    </tr>\n",
       "    <tr>\n",
       "      <th>2735</th>\n",
       "      <td>3.276792</td>\n",
       "      <td>3.380102</td>\n",
       "    </tr>\n",
       "  </tbody>\n",
       "</table>\n",
       "<p>2736 rows × 2 columns</p>\n",
       "</div>"
      ],
      "text/plain": [
       "      Train Predictions   Actuals\n",
       "0             -0.522700 -0.526011\n",
       "1             -0.522212 -0.523423\n",
       "2             -0.519961 -0.522440\n",
       "3             -0.518895 -0.521573\n",
       "4             -0.518100 -0.520951\n",
       "...                 ...       ...\n",
       "2731           3.182306  3.025802\n",
       "2732           3.087418  3.171055\n",
       "2733           3.222336  3.307638\n",
       "2734           3.341951  3.213757\n",
       "2735           3.276792  3.380102\n",
       "\n",
       "[2736 rows x 2 columns]"
      ]
     },
     "execution_count": 18,
     "metadata": {},
     "output_type": "execute_result"
    }
   ],
   "source": [
    "train_predictions=model.predict(x_train).flatten()\n",
    "train_results=pd.DataFrame(data={'Train Predictions':train_predictions,'Actuals':yflat})\n",
    "train_results"
   ]
  },
  {
   "cell_type": "code",
   "execution_count": 19,
   "metadata": {},
   "outputs": [
    {
     "data": {
      "image/png": "[encoded data removed]",
      "text/plain": [
       "<Figure size 640x480 with 1 Axes>"
      ]
     },
     "metadata": {},
     "output_type": "display_data"
    }
   ],
   "source": [
    "## Check for overfitting\n",
    "from matplotlib import pyplot as plt\n",
    "plt.plot(history.history['loss'])\n",
    "plt.title('Model Loss')\n",
    "plt.ylabel('Loss')\n",
    "plt.xlabel('Epoch')\n",
    "plt.show()"
   ]
  },
  {
   "cell_type": "code",
   "execution_count": 20,
   "metadata": {},
   "outputs": [
    {
     "name": "stdout",
     "output_type": "stream",
     "text": [
      "2/2 [==============================] - 0s 6ms/step - loss: 0.2939\n",
      "0.2938760817050934\n"
     ]
    }
   ],
   "source": [
    "## evaluate the model\n",
    "testscore=model.evaluate(x_test,y_test)\n",
    "print(testscore)"
   ]
  },
  {
   "cell_type": "code",
   "execution_count": 21,
   "metadata": {},
   "outputs": [
    {
     "name": "stdout",
     "output_type": "stream",
     "text": [
      "(2736, 10, 1)\n",
      "[[-0.52074446]\n",
      " [-0.51178909]\n",
      " [-0.51283101]\n",
      " ...\n",
      " [ 3.84484004]\n",
      " [ 3.8389049 ]\n",
      " [ 3.40590769]]\n"
     ]
    }
   ],
   "source": [
    "# print(x_train)\n",
    "print(x_train.shape)\n",
    "print(x_train[:,0])"
   ]
  },
  {
   "cell_type": "code",
   "execution_count": 85,
   "metadata": {},
   "outputs": [
    {
     "name": "stdout",
     "output_type": "stream",
     "text": [
      "2736 608 34\n"
     ]
    }
   ],
   "source": [
    "# Add dates here because we arent training with the date becasue that is kind of annoying to do.\n",
    "def genDateSplit(dates,windowSize,threshold=0.8,valsize=0.01): \n",
    "    #threshold means 80% is split train/val\n",
    "    # valsize means 1% never sees the model in val or training; this is taken from the val side, so val is actually size = 1-threshold-valsize\n",
    "    threshold_index=round(X.shape[0]*(threshold+valsize))+windowSize\n",
    "    valindex=round(X.shape[0]*(1-valsize))+windowSize\n",
    "    \n",
    "    a=dates[windowSize:threshold_index]\n",
    "    b=dates[threshold_index:valindex]\n",
    "    c=dates[valindex:]\n",
    "    \n",
    "    print(len(a),len(b),len(c))\n",
    "    \n",
    "    return a,b,c\n",
    "\n",
    "unixdates=df.Date.tolist()\n",
    "ndates=[]\n",
    "for i in unixdates:\n",
    "    ndates.append(datetime.utcfromtimestamp(i).strftime('%Y-%m-%d'))\n",
    "# print(ndates)\n",
    "\n",
    "trainDates,val_dates,testDates=genDateSplit(ndates,windowSize)\n"
   ]
  },
  {
   "cell_type": "code",
   "execution_count": 75,
   "metadata": {},
   "outputs": [
    {
     "name": "stdout",
     "output_type": "stream",
     "text": [
      "train 2736 2736\n",
      "val 608 608\n",
      "test 34 34\n"
     ]
    }
   ],
   "source": [
    "# compare lengths of the data things\n",
    "print(\"train\", len(trainDates),y_train.shape[0])\n",
    "print(\"val\", len(val_dates),y_val.shape[0])\n",
    "print(\"test\", len(testDates),y_test.shape[0])"
   ]
  },
  {
   "cell_type": "code",
   "execution_count": 24,
   "metadata": {},
   "outputs": [
    {
     "data": {
      "text/plain": [
       "245.139999"
      ]
     },
     "execution_count": 24,
     "metadata": {},
     "output_type": "execute_result"
    }
   ],
   "source": [
    "df.Open[3379]"
   ]
  },
  {
   "cell_type": "code",
   "execution_count": 76,
   "metadata": {},
   "outputs": [
    {
     "data": {
      "text/plain": [
       "((1, 10, 1), (34, 10, 1))"
      ]
     },
     "execution_count": 76,
     "metadata": {},
     "output_type": "execute_result"
    }
   ],
   "source": [
    "x_test[-10]\n",
    "# x_test[-1,:],x_test[33,:] # these are equal\n",
    "x_test.shape,x_test[(x_test.shape[0]-windowSize-1):-1,:].shape\n",
    "\n",
    "x_set4Predict=x_test[-2:-1,:]\n",
    "x_set4Predict.shape,x_test.shape"
   ]
  },
  {
   "cell_type": "code",
   "execution_count": 77,
   "metadata": {},
   "outputs": [
    {
     "name": "stdout",
     "output_type": "stream",
     "text": [
      "19/19 [==============================] - 0s 3ms/step\n",
      "2/2 [==============================] - 0s 4ms/step\n",
      "1/1 [==============================] - 0s 21ms/step\n"
     ]
    }
   ],
   "source": [
    "val_predictions=model.predict(x_val)\n",
    "test_predictions=model.predict(x_test)\n",
    "future_predict=model.predict(x_set4Predict)"
   ]
  },
  {
   "cell_type": "code",
   "execution_count": 139,
   "metadata": {},
   "outputs": [
    {
     "data": {
      "image/png": "[encoded data removed]",
      "text/plain": [
       "<Figure size 640x480 with 1 Axes>"
      ]
     },
     "metadata": {},
     "output_type": "display_data"
    }
   ],
   "source": [
    "## un-normalize data so that we can have the context to it\n",
    "def unNormalize(normddata,meann,stddev):\n",
    "    # print(meann,stddev)\n",
    "    orig=normddata*stddev + meann\n",
    "    return orig\n",
    "\n",
    "normed_ytrain=unNormalize(y_train,unNormData['ytrain'][0],unNormData['ytrain'][1])\n",
    "normed_yval=unNormalize(y_val,unNormData['yval'][0],unNormData['yval'][1])\n",
    "normed_ytest=unNormalize(y_test,unNormData['ytest'][0],unNormData['ytest'][1])\n",
    "\n",
    "normValPreedict=unNormalize(val_predictions,unNormData['yval'][0],unNormData['yval'][1])\n",
    "normTestPredictions=unNormalize(test_predictions,unNormData['ytest'][0],unNormData['ytest'][1])\n",
    "normed_futurePrediction=unNormalize(future_predict,unNormData['ytest'][0],unNormData['ytest'][1])\n",
    "\n",
    "\n",
    "#  THIS SECTION VALIDATES THAT THE DE-NORMALIZATION PROCEDURE IS WORKING\n",
    "\n",
    "plt.plot(testDates,normed_ytest,label='denormed')\n",
    "plt.plot(testDates,df.Open[-normed_ytest.shape[0]:df.shape[0]].tolist(),label=\"real\")\n",
    "plt.plot(testDates[:-1],normTestPredictions.flatten()[1:],label=\"predict\")\n",
    "plt.plot(testDates[len(testDates)-1],normed_futurePrediction,label=\"predict\",marker='o')\n",
    "plt.legend() \n",
    "plt.show()"
   ]
  },
  {
   "cell_type": "code",
   "execution_count": 127,
   "metadata": {},
   "outputs": [
    {
     "data": {
      "text/plain": [
       "(array([243.87389], dtype=float32),\n",
       " 238.550003,\n",
       " array([241.59123], dtype=float32),\n",
       " 242.740005)"
      ]
     },
     "execution_count": 127,
     "metadata": {},
     "output_type": "execute_result"
    }
   ],
   "source": [
    "normTestPredictions[-1],normed_ytest[-1],normTestPredictions[-2],normed_ytest[-2]"
   ]
  },
  {
   "cell_type": "code",
   "execution_count": 136,
   "metadata": {},
   "outputs": [
    {
     "data": {
      "image/png": "[encoded data removed]",
      "text/plain": [
       "<Figure size 640x480 with 1 Axes>"
      ]
     },
     "metadata": {},
     "output_type": "display_data"
    },
    {
     "data": {
      "image/png": "[encoded data removed]",
      "text/plain": [
       "<Figure size 640x480 with 1 Axes>"
      ]
     },
     "metadata": {},
     "output_type": "display_data"
    },
    {
     "data": {
      "image/png": "[encoded data removed]",
      "text/plain": [
       "<Figure size 640x480 with 1 Axes>"
      ]
     },
     "metadata": {},
     "output_type": "display_data"
    },
    {
     "data": {
      "image/png": "[encoded data removed]",
      "text/plain": [
       "<Figure size 640x480 with 1 Axes>"
      ]
     },
     "metadata": {},
     "output_type": "display_data"
    }
   ],
   "source": [
    "#Plot the real stock prices\n",
    "plt.plot(trainDates,normed_ytrain.flatten(),label=\"train (first 80%)\")\n",
    "plt.xticks(trainDates[::200],rotation=45)\n",
    "plt.plot(val_dates,normed_yval.flatten(),label=\"val (last 20%)\")\n",
    "plt.plot(testDates,normed_ytest.flatten(),label=\"test (very last 30 pts)\")\n",
    "\n",
    "plt.plot(val_dates[:-1],normValPreedict[1:],label=\"validation set predictions\")\n",
    "plt.plot(testDates[:-1],normTestPredictions[1:],label=\"test set predictions\")\n",
    "plt.title('TSLA price history (all)')\n",
    "plt.ylabel('Price')\n",
    "plt.xlabel('Date')\n",
    "plt.legend() \n",
    "plt.show()\n",
    "\n",
    "plt.plot(val_dates,normed_yval,label=\"Validation Set\",marker='o')\n",
    "\n",
    "plt.plot(val_dates[:-1],normValPreedict[1:],label=\"validation set predictions\")\n",
    "plt.xticks(val_dates[::50],rotation=45)\n",
    "plt.title('TSLA val portion')\n",
    "plt.ylabel('Price')\n",
    "plt.xlabel('Date')\n",
    "plt.legend() \n",
    "plt.show()\n",
    "\n",
    "plt.plot(testDates,normed_ytest,label=\"Test Set\",marker='o')\n",
    "plt.plot(testDates[:-1],normTestPredictions[1:],label=\"test set predictions\")\n",
    "plt.xticks(testDates[::3],rotation=45)\n",
    "plt.title('TSLA test portion')\n",
    "plt.ylabel('Price')\n",
    "plt.xlabel('Date')\n",
    "plt.legend() \n",
    "plt.show()\n",
    "\n",
    "plt.plot(testDates[-1],normed_futurePrediction,label=\"Future Projections\",marker='o')\n",
    "annot=[testDates[-1],normed_futurePrediction]\n",
    "plt.annotate(annot,annot)\n",
    "plt.title('TSLA furture predictions')\n",
    "plt.ylabel('Price')\n",
    "plt.xlabel('Date')\n",
    "plt.legend() \n",
    "plt.show()\n",
    "\n"
   ]
  }
 ],
 "metadata": {
  "kernelspec": {
   "display_name": ".venv",
   "language": "python",
   "name": "python3"
  },
  "language_info": {
   "codemirror_mode": {
    "name": "ipython",
    "version": 3
   },
   "file_extension": ".py",
   "mimetype": "text/x-python",
   "name": "python",
   "nbconvert_exporter": "python",
   "pygments_lexer": "ipython3",
   "version": "3.10.2"
  }
 },
 "nbformat": 4,
 "nbformat_minor": 2
}
