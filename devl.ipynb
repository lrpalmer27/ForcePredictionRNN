{
 "cells": [
  {
   "cell_type": "code",
   "execution_count": 1,
   "metadata": {},
   "outputs": [],
   "source": [
    "import os\n",
    "import sys\n",
    "import pandas as pd\n",
    "import numpy as np\n",
    "import math\n",
    "from matplotlib import pyplot as plt\n",
    "import tensorflow as tf\n",
    "import datetime \n",
    "windowSize=5\n",
    "epochs=200\n",
    "verbose=True\n",
    "train=True"
   ]
  },
  {
   "cell_type": "markdown",
   "metadata": {},
   "source": [
    "## Trial on my stock price data"
   ]
  },
  {
   "cell_type": "code",
   "execution_count": 2,
   "metadata": {},
   "outputs": [],
   "source": [
    "#based on: https://www.youtube.com/watch?v=c0k-YLQGKjY\n",
    "#format:\n",
    "##         X           Y\n",
    "## [[[1],[2],[3],[4]] [5]\n",
    "\n",
    "def df_to_windowed_df(dataframe,windowSize=3):\n",
    "  data=dataframe.to_numpy()\n",
    "  X=[]\n",
    "  Y=[]\n",
    "  \n",
    "  for i in range(0,len(data)-windowSize):\n",
    "    # nth=[[a[0],a[1]] for a in data[i:i+windowSize]]\n",
    "    nth=[[a[1]] for a in data[i:i+windowSize]]\n",
    "    # print(nth)\n",
    "    X.append(nth)\n",
    "    Y.append((data[i+windowSize])[1])\n",
    "  \n",
    "  return np.array(X),np.array(Y)\n",
    "    \n",
    "## history of tesla share prices\n",
    "filepath=\"TSLA.csv\"\n",
    "df=pd.read_csv(filepath)\n",
    "\n",
    "df.Date = pd.to_datetime(df.Date).astype('int64') / 10**9\n",
    "X,Y=df_to_windowed_df(df,windowSize=windowSize)"
   ]
  },
  {
   "cell_type": "code",
   "execution_count": 3,
   "metadata": {},
   "outputs": [],
   "source": [
    "def splitDataset(X,Y,threshold=0.8,valsize=0.01): \n",
    "    #threshold means 80% is split train/val\n",
    "    # valsize means 1% never sees the model in val or training; this is taken from the val side, so val is actually size = 1-threshold-valsize\n",
    "    threshold_index=round(X.shape[0]*(threshold+valsize))\n",
    "    valindex=round(X.shape[0]*(1-valsize))\n",
    "    \n",
    "    x_train=X[:threshold_index]\n",
    "    y_train=Y[:threshold_index]\n",
    "    \n",
    "    x_val=X[threshold_index:valindex]\n",
    "    y_val=Y[threshold_index:valindex]\n",
    "    \n",
    "    x_test=X[valindex:]\n",
    "    y_test=Y[valindex:]\n",
    "    \n",
    "    return x_train,y_train,x_val,y_val,x_test,y_test\n",
    "\n",
    "x_train_0,y_train_0,x_val_0,y_val_0,x_test_0,y_test_0=splitDataset(X,Y)"
   ]
  },
  {
   "cell_type": "code",
   "execution_count": 4,
   "metadata": {},
   "outputs": [],
   "source": [
    "###Normalize the data!\n",
    "\n",
    "def zscoreNorm_manual(inp,mean,std):\n",
    "    return (inp-mean)/std\n",
    "\n",
    "normalize=True\n",
    "if normalize==True:\n",
    "    # Order=2 makes it a minmax scaling operation (so that we can de-normalize later)\n",
    "    # x_train=tf.keras.utils.normalize(x_train_0,axis=0,order=2)\n",
    "    # y_train=tf.keras.utils.normalize(y_train_0,axis=0,order=2)\n",
    "\n",
    "    # x_val=tf.keras.utils.normalize(x_val_0,axis=0,order=2)\n",
    "    # y_val=tf.keras.utils.normalize(y_val_0,axis=0,order=2)\n",
    "\n",
    "    # x_test=tf.keras.utils.normalize(x_test_0,axis=0,order=np.inf)\n",
    "    # y_test=tf.keras.utils.normalize(y_test_0,axis=0,order=np.inf)\n",
    "    \n",
    "    unNormData={\"xtrain\":[np.mean(x_train_0,axis=0),np.std(x_train_0,axis=0)],\"ytrain\":[np.mean(y_train_0,axis=0),np.std(y_train_0,axis=0)],\n",
    "                \"xval\":[np.mean(x_val_0,axis=0),np.std(x_val_0,axis=0)],\"yval\":[np.mean(y_val_0,axis=0),np.std(y_val_0,axis=0)],\n",
    "                \"xtest\":[np.mean(x_test_0,axis=0),np.std(x_test_0,axis=0)],\"ytest\":[np.mean(y_test_0,axis=0),np.std(y_test_0,axis=0)]\n",
    "                }\n",
    "    \n",
    "    \n",
    "    x_train=zscoreNorm_manual(x_train_0,unNormData[\"xtrain\"][0],unNormData[\"xtrain\"][1])\n",
    "    y_train=zscoreNorm_manual(y_train_0,unNormData[\"ytrain\"][0],unNormData[\"ytrain\"][1])\n",
    "    \n",
    "    x_val=zscoreNorm_manual(x_val_0,unNormData[\"xval\"][0],unNormData[\"xval\"][1])\n",
    "    y_val=zscoreNorm_manual(y_val_0,unNormData[\"yval\"][0],unNormData[\"yval\"][1])\n",
    "    \n",
    "    x_test=zscoreNorm_manual(x_test_0,unNormData[\"xtest\"][0],unNormData[\"xtest\"][1])\n",
    "    y_test=zscoreNorm_manual(y_test_0,unNormData[\"ytest\"][0],unNormData[\"ytest\"][1])\n",
    "\n",
    "\n",
    "\n",
    "# OPTED TO DO MANUAL Z-SCALING NORMALIZATION HERE SO THAT I CAN REVERSE IT LATER ON;\n",
    "# EVEN READING THE DOCS ON THE TF KERAS NORMALIZATION ABOVE IT SEEMED LIKE IT SHOULDVE BEEN WORKING\n",
    "# BUT I COUDLNT REVERSE IT; SOMETHING WEIRD WAS GOING ON."
   ]
  },
  {
   "cell_type": "code",
   "execution_count": 5,
   "metadata": {},
   "outputs": [
    {
     "name": "stdout",
     "output_type": "stream",
     "text": [
      "242.740005\n",
      "mean 229.48294005882352 229.48294005882352\n",
      "std 12.962013469213561 12.962013469213561\n",
      "1.02276278084911\n",
      "242.740005\n"
     ]
    }
   ],
   "source": [
    "# THIS IS JUST TO VALIDATE THAT THE NORMALIZATION AND DENORMALIZATION PROCESS WORKS\n",
    "if verbose:\n",
    "    print(y_test_0[-4])\n",
    "    print(\"mean\",unNormData['ytest'][0],np.mean(y_test_0,axis=0))\n",
    "    print(\"std\",unNormData['ytest'][1],np.std(y_test_0,axis=0))\n",
    "    print(y_test[-4])\n",
    "    print(y_test[-4]*unNormData['ytest'][1]+unNormData['ytest'][0])"
   ]
  },
  {
   "cell_type": "code",
   "execution_count": 6,
   "metadata": {},
   "outputs": [
    {
     "name": "stdout",
     "output_type": "stream",
     "text": [
      "[PhysicalDevice(name='/physical_device:CPU:0', device_type='CPU'), PhysicalDevice(name='/physical_device:GPU:0', device_type='GPU')]\n"
     ]
    }
   ],
   "source": [
    "if verbose:\n",
    "    print(tf.config.list_physical_devices())"
   ]
  },
  {
   "cell_type": "code",
   "execution_count": 7,
   "metadata": {},
   "outputs": [
    {
     "name": "stdout",
     "output_type": "stream",
     "text": [
      "Model: \"sequential\"\n",
      "_________________________________________________________________\n",
      " Layer (type)                Output Shape              Param #   \n",
      "=================================================================\n",
      " lstm (LSTM)                 (None, 5, 64)             16896     \n",
      "                                                                 \n",
      " dropout (Dropout)           (None, 5, 64)             0         \n",
      "                                                                 \n",
      " lstm_1 (LSTM)               (None, 5, 64)             33024     \n",
      "                                                                 \n",
      " dropout_1 (Dropout)         (None, 5, 64)             0         \n",
      "                                                                 \n",
      " lstm_2 (LSTM)               (None, 32)                12416     \n",
      "                                                                 \n",
      " dropout_2 (Dropout)         (None, 32)                0         \n",
      "                                                                 \n",
      " dense (Dense)               (None, 16)                528       \n",
      "                                                                 \n",
      " dense_1 (Dense)             (None, 1)                 17        \n",
      "                                                                 \n",
      "=================================================================\n",
      "Total params: 62,881\n",
      "Trainable params: 62,881\n",
      "Non-trainable params: 0\n",
      "_________________________________________________________________\n"
     ]
    }
   ],
   "source": [
    "model=tf.keras.models.Sequential()\n",
    "\n",
    "model.add(tf.keras.layers.InputLayer((x_train.shape[1],x_train.shape[2])))\n",
    "model.add(tf.keras.layers.LSTM(256,return_sequences=True))\n",
    "model.add(tf.keras.layers.Dropout(0.1))\n",
    "model.add(tf.keras.layers.LSTM(128,return_sequences=True))\n",
    "model.add(tf.keras.layers.Dropout(0.1))\n",
    "model.add(tf.keras.layers.LSTM(64,return_sequences=True))\n",
    "model.add(tf.keras.layers.Dropout(0.1))\n",
    "model.add(tf.keras.layers.LSTM(32))\n",
    "model.add(tf.keras.layers.Dropout(0.15))\n",
    "model.add(tf.keras.layers.Dense(16,'relu'))\n",
    "model.add(tf.keras.layers.Dense(1,'linear'))\n",
    "\n",
    "model.summary()\n"
   ]
  },
  {
   "cell_type": "code",
   "execution_count": 8,
   "metadata": {},
   "outputs": [],
   "source": [
    "logspath=os.path.join('logs','model_init')\n",
    "csv_logger = tf.keras.callbacks.CSVLogger(os.path.join(logspath,'training.log'), separator=',', append=False)\n",
    "cp=tf.keras.callbacks.ModelCheckpoint(logspath,save_best_only=True)\n",
    "model.compile(loss='mse', optimizer=tf.keras.optimizers.Adam())"
   ]
  },
  {
   "cell_type": "code",
   "execution_count": 9,
   "metadata": {},
   "outputs": [
    {
     "name": "stdout",
     "output_type": "stream",
     "text": [
      "Epoch 1/200\n",
      "85/86 [============================>.] - ETA: 0s - loss: 0.2147"
     ]
    },
    {
     "name": "stderr",
     "output_type": "stream",
     "text": [
      "WARNING:absl:Found untraced functions such as lstm_cell_layer_call_fn, lstm_cell_layer_call_and_return_conditional_losses, lstm_cell_1_layer_call_fn, lstm_cell_1_layer_call_and_return_conditional_losses, lstm_cell_2_layer_call_fn while saving (showing 5 of 6). These functions will not be directly callable after loading.\n"
     ]
    },
    {
     "name": "stdout",
     "output_type": "stream",
     "text": [
      "INFO:tensorflow:Assets written to: logs\\model_init\\assets\n"
     ]
    },
    {
     "name": "stderr",
     "output_type": "stream",
     "text": [
      "INFO:tensorflow:Assets written to: logs\\model_init\\assets\n"
     ]
    },
    {
     "name": "stdout",
     "output_type": "stream",
     "text": [
      "86/86 [==============================] - 17s 139ms/step - loss: 0.2131 - val_loss: 0.2237\n",
      "Epoch 2/200\n",
      "83/86 [===========================>..] - ETA: 0s - loss: 0.0230"
     ]
    },
    {
     "name": "stderr",
     "output_type": "stream",
     "text": [
      "WARNING:absl:Found untraced functions such as lstm_cell_layer_call_fn, lstm_cell_layer_call_and_return_conditional_losses, lstm_cell_1_layer_call_fn, lstm_cell_1_layer_call_and_return_conditional_losses, lstm_cell_2_layer_call_fn while saving (showing 5 of 6). These functions will not be directly callable after loading.\n"
     ]
    },
    {
     "name": "stdout",
     "output_type": "stream",
     "text": [
      "INFO:tensorflow:Assets written to: logs\\model_init\\assets\n"
     ]
    },
    {
     "name": "stderr",
     "output_type": "stream",
     "text": [
      "INFO:tensorflow:Assets written to: logs\\model_init\\assets\n"
     ]
    },
    {
     "name": "stdout",
     "output_type": "stream",
     "text": [
      "86/86 [==============================] - 11s 130ms/step - loss: 0.0226 - val_loss: 0.1339\n",
      "Epoch 3/200\n",
      "86/86 [==============================] - ETA: 0s - loss: 0.0200"
     ]
    },
    {
     "name": "stderr",
     "output_type": "stream",
     "text": [
      "WARNING:absl:Found untraced functions such as lstm_cell_layer_call_fn, lstm_cell_layer_call_and_return_conditional_losses, lstm_cell_1_layer_call_fn, lstm_cell_1_layer_call_and_return_conditional_losses, lstm_cell_2_layer_call_fn while saving (showing 5 of 6). These functions will not be directly callable after loading.\n"
     ]
    },
    {
     "name": "stdout",
     "output_type": "stream",
     "text": [
      "INFO:tensorflow:Assets written to: logs\\model_init\\assets\n"
     ]
    },
    {
     "name": "stderr",
     "output_type": "stream",
     "text": [
      "INFO:tensorflow:Assets written to: logs\\model_init\\assets\n"
     ]
    },
    {
     "name": "stdout",
     "output_type": "stream",
     "text": [
      "86/86 [==============================] - 11s 129ms/step - loss: 0.0200 - val_loss: 0.1334\n",
      "Epoch 4/200\n",
      "83/86 [===========================>..] - ETA: 0s - loss: 0.0172"
     ]
    },
    {
     "name": "stderr",
     "output_type": "stream",
     "text": [
      "WARNING:absl:Found untraced functions such as lstm_cell_layer_call_fn, lstm_cell_layer_call_and_return_conditional_losses, lstm_cell_1_layer_call_fn, lstm_cell_1_layer_call_and_return_conditional_losses, lstm_cell_2_layer_call_fn while saving (showing 5 of 6). These functions will not be directly callable after loading.\n"
     ]
    },
    {
     "name": "stdout",
     "output_type": "stream",
     "text": [
      "INFO:tensorflow:Assets written to: logs\\model_init\\assets\n"
     ]
    },
    {
     "name": "stderr",
     "output_type": "stream",
     "text": [
      "INFO:tensorflow:Assets written to: logs\\model_init\\assets\n"
     ]
    },
    {
     "name": "stdout",
     "output_type": "stream",
     "text": [
      "86/86 [==============================] - 11s 126ms/step - loss: 0.0169 - val_loss: 0.1105\n",
      "Epoch 5/200\n",
      "86/86 [==============================] - 1s 13ms/step - loss: 0.0183 - val_loss: 0.1236\n",
      "Epoch 6/200\n",
      "86/86 [==============================] - 1s 12ms/step - loss: 0.0167 - val_loss: 0.1283\n",
      "Epoch 7/200\n",
      "86/86 [==============================] - 1s 12ms/step - loss: 0.0217 - val_loss: 0.1215\n",
      "Epoch 8/200\n",
      "86/86 [==============================] - 1s 12ms/step - loss: 0.0173 - val_loss: 0.1214\n",
      "Epoch 9/200\n",
      "86/86 [==============================] - 1s 12ms/step - loss: 0.0197 - val_loss: 0.1203\n",
      "Epoch 10/200\n",
      "86/86 [==============================] - 1s 12ms/step - loss: 0.0170 - val_loss: 0.1243\n",
      "Epoch 11/200\n",
      "86/86 [==============================] - 1s 12ms/step - loss: 0.0163 - val_loss: 0.1266\n",
      "Epoch 12/200\n",
      "86/86 [==============================] - 1s 12ms/step - loss: 0.0139 - val_loss: 0.1337\n",
      "Epoch 13/200\n",
      "86/86 [==============================] - 1s 12ms/step - loss: 0.0146 - val_loss: 0.1288\n",
      "Epoch 14/200\n",
      "86/86 [==============================] - 1s 12ms/step - loss: 0.0167 - val_loss: 0.1230\n",
      "Epoch 15/200\n",
      "86/86 [==============================] - 1s 12ms/step - loss: 0.0170 - val_loss: 0.1273\n",
      "Epoch 16/200\n",
      "86/86 [==============================] - 1s 12ms/step - loss: 0.0134 - val_loss: 0.1201\n",
      "Epoch 17/200\n",
      "86/86 [==============================] - 1s 12ms/step - loss: 0.0150 - val_loss: 0.1294\n",
      "Epoch 18/200\n",
      "86/86 [==============================] - 1s 12ms/step - loss: 0.0184 - val_loss: 0.1199\n",
      "Epoch 19/200\n",
      "86/86 [==============================] - 1s 12ms/step - loss: 0.0119 - val_loss: 0.1224\n",
      "Epoch 20/200\n",
      "86/86 [==============================] - 1s 12ms/step - loss: 0.0181 - val_loss: 0.1349\n",
      "Epoch 21/200\n",
      "86/86 [==============================] - 1s 12ms/step - loss: 0.0128 - val_loss: 0.1252\n",
      "Epoch 22/200\n",
      "86/86 [==============================] - 1s 12ms/step - loss: 0.0126 - val_loss: 0.1233\n",
      "Epoch 23/200\n",
      "86/86 [==============================] - 1s 12ms/step - loss: 0.0112 - val_loss: 0.1150\n",
      "Epoch 24/200\n",
      "86/86 [==============================] - 1s 12ms/step - loss: 0.0118 - val_loss: 0.1145\n",
      "Epoch 25/200\n",
      "86/86 [==============================] - 1s 12ms/step - loss: 0.0130 - val_loss: 0.1172\n",
      "Epoch 26/200\n",
      "86/86 [==============================] - 1s 12ms/step - loss: 0.0129 - val_loss: 0.1318\n",
      "Epoch 27/200\n",
      "86/86 [==============================] - 1s 12ms/step - loss: 0.0114 - val_loss: 0.1371\n",
      "Epoch 28/200\n",
      "86/86 [==============================] - 1s 12ms/step - loss: 0.0134 - val_loss: 0.1176\n",
      "Epoch 29/200\n",
      "86/86 [==============================] - 1s 12ms/step - loss: 0.0123 - val_loss: 0.1176\n",
      "Epoch 30/200\n",
      "86/86 [==============================] - 1s 12ms/step - loss: 0.0111 - val_loss: 0.1305\n",
      "Epoch 31/200\n",
      "86/86 [==============================] - 1s 12ms/step - loss: 0.0146 - val_loss: 0.1115\n",
      "Epoch 32/200\n",
      "86/86 [==============================] - 1s 12ms/step - loss: 0.0122 - val_loss: 0.1123\n",
      "Epoch 33/200\n",
      "84/86 [============================>.] - ETA: 0s - loss: 0.0142"
     ]
    },
    {
     "name": "stderr",
     "output_type": "stream",
     "text": [
      "WARNING:absl:Found untraced functions such as lstm_cell_layer_call_fn, lstm_cell_layer_call_and_return_conditional_losses, lstm_cell_1_layer_call_fn, lstm_cell_1_layer_call_and_return_conditional_losses, lstm_cell_2_layer_call_fn while saving (showing 5 of 6). These functions will not be directly callable after loading.\n"
     ]
    },
    {
     "name": "stdout",
     "output_type": "stream",
     "text": [
      "INFO:tensorflow:Assets written to: logs\\model_init\\assets\n"
     ]
    },
    {
     "name": "stderr",
     "output_type": "stream",
     "text": [
      "INFO:tensorflow:Assets written to: logs\\model_init\\assets\n"
     ]
    },
    {
     "name": "stdout",
     "output_type": "stream",
     "text": [
      "86/86 [==============================] - 10s 122ms/step - loss: 0.0144 - val_loss: 0.1043\n",
      "Epoch 34/200\n",
      "86/86 [==============================] - 1s 13ms/step - loss: 0.0099 - val_loss: 0.1056\n",
      "Epoch 35/200\n",
      "83/86 [===========================>..] - ETA: 0s - loss: 0.0107"
     ]
    },
    {
     "name": "stderr",
     "output_type": "stream",
     "text": [
      "WARNING:absl:Found untraced functions such as lstm_cell_layer_call_fn, lstm_cell_layer_call_and_return_conditional_losses, lstm_cell_1_layer_call_fn, lstm_cell_1_layer_call_and_return_conditional_losses, lstm_cell_2_layer_call_fn while saving (showing 5 of 6). These functions will not be directly callable after loading.\n"
     ]
    },
    {
     "name": "stdout",
     "output_type": "stream",
     "text": [
      "INFO:tensorflow:Assets written to: logs\\model_init\\assets\n"
     ]
    },
    {
     "name": "stderr",
     "output_type": "stream",
     "text": [
      "INFO:tensorflow:Assets written to: logs\\model_init\\assets\n"
     ]
    },
    {
     "name": "stdout",
     "output_type": "stream",
     "text": [
      "86/86 [==============================] - 11s 125ms/step - loss: 0.0107 - val_loss: 0.1042\n",
      "Epoch 36/200\n",
      "86/86 [==============================] - 1s 12ms/step - loss: 0.0113 - val_loss: 0.1091\n",
      "Epoch 37/200\n",
      "86/86 [==============================] - 1s 14ms/step - loss: 0.0117 - val_loss: 0.1105\n",
      "Epoch 38/200\n",
      "86/86 [==============================] - 1s 14ms/step - loss: 0.0158 - val_loss: 0.1140\n",
      "Epoch 39/200\n",
      "84/86 [============================>.] - ETA: 0s - loss: 0.0114"
     ]
    },
    {
     "name": "stderr",
     "output_type": "stream",
     "text": [
      "WARNING:absl:Found untraced functions such as lstm_cell_layer_call_fn, lstm_cell_layer_call_and_return_conditional_losses, lstm_cell_1_layer_call_fn, lstm_cell_1_layer_call_and_return_conditional_losses, lstm_cell_2_layer_call_fn while saving (showing 5 of 6). These functions will not be directly callable after loading.\n"
     ]
    },
    {
     "name": "stdout",
     "output_type": "stream",
     "text": [
      "INFO:tensorflow:Assets written to: logs\\model_init\\assets\n"
     ]
    },
    {
     "name": "stderr",
     "output_type": "stream",
     "text": [
      "INFO:tensorflow:Assets written to: logs\\model_init\\assets\n"
     ]
    },
    {
     "name": "stdout",
     "output_type": "stream",
     "text": [
      "86/86 [==============================] - 12s 135ms/step - loss: 0.0113 - val_loss: 0.0996\n",
      "Epoch 40/200\n",
      "86/86 [==============================] - 1s 15ms/step - loss: 0.0124 - val_loss: 0.1161\n",
      "Epoch 41/200\n",
      "86/86 [==============================] - 1s 12ms/step - loss: 0.0101 - val_loss: 0.1004\n",
      "Epoch 42/200\n",
      "86/86 [==============================] - 1s 11ms/step - loss: 0.0095 - val_loss: 0.1013\n",
      "Epoch 43/200\n",
      "86/86 [==============================] - 1s 12ms/step - loss: 0.0129 - val_loss: 0.1084\n",
      "Epoch 44/200\n",
      "86/86 [==============================] - 1s 12ms/step - loss: 0.0116 - val_loss: 0.1108\n",
      "Epoch 45/200\n",
      "86/86 [==============================] - 1s 12ms/step - loss: 0.0127 - val_loss: 0.1033\n",
      "Epoch 46/200\n",
      "85/86 [============================>.] - ETA: 0s - loss: 0.0145"
     ]
    },
    {
     "name": "stderr",
     "output_type": "stream",
     "text": [
      "WARNING:absl:Found untraced functions such as lstm_cell_layer_call_fn, lstm_cell_layer_call_and_return_conditional_losses, lstm_cell_1_layer_call_fn, lstm_cell_1_layer_call_and_return_conditional_losses, lstm_cell_2_layer_call_fn while saving (showing 5 of 6). These functions will not be directly callable after loading.\n"
     ]
    },
    {
     "name": "stdout",
     "output_type": "stream",
     "text": [
      "INFO:tensorflow:Assets written to: logs\\model_init\\assets\n"
     ]
    },
    {
     "name": "stderr",
     "output_type": "stream",
     "text": [
      "INFO:tensorflow:Assets written to: logs\\model_init\\assets\n"
     ]
    },
    {
     "name": "stdout",
     "output_type": "stream",
     "text": [
      "86/86 [==============================] - 10s 123ms/step - loss: 0.0144 - val_loss: 0.0952\n",
      "Epoch 47/200\n",
      "86/86 [==============================] - 1s 13ms/step - loss: 0.0122 - val_loss: 0.1016\n",
      "Epoch 48/200\n",
      "86/86 [==============================] - 1s 13ms/step - loss: 0.0110 - val_loss: 0.0988\n",
      "Epoch 49/200\n",
      "82/86 [===========================>..] - ETA: 0s - loss: 0.0098"
     ]
    },
    {
     "name": "stderr",
     "output_type": "stream",
     "text": [
      "WARNING:absl:Found untraced functions such as lstm_cell_layer_call_fn, lstm_cell_layer_call_and_return_conditional_losses, lstm_cell_1_layer_call_fn, lstm_cell_1_layer_call_and_return_conditional_losses, lstm_cell_2_layer_call_fn while saving (showing 5 of 6). These functions will not be directly callable after loading.\n"
     ]
    },
    {
     "name": "stdout",
     "output_type": "stream",
     "text": [
      "INFO:tensorflow:Assets written to: logs\\model_init\\assets\n"
     ]
    },
    {
     "name": "stderr",
     "output_type": "stream",
     "text": [
      "INFO:tensorflow:Assets written to: logs\\model_init\\assets\n"
     ]
    },
    {
     "name": "stdout",
     "output_type": "stream",
     "text": [
      "86/86 [==============================] - 11s 128ms/step - loss: 0.0103 - val_loss: 0.0919\n",
      "Epoch 50/200\n",
      "85/86 [============================>.] - ETA: 0s - loss: 0.0104"
     ]
    },
    {
     "name": "stderr",
     "output_type": "stream",
     "text": [
      "WARNING:absl:Found untraced functions such as lstm_cell_layer_call_fn, lstm_cell_layer_call_and_return_conditional_losses, lstm_cell_1_layer_call_fn, lstm_cell_1_layer_call_and_return_conditional_losses, lstm_cell_2_layer_call_fn while saving (showing 5 of 6). These functions will not be directly callable after loading.\n"
     ]
    },
    {
     "name": "stdout",
     "output_type": "stream",
     "text": [
      "INFO:tensorflow:Assets written to: logs\\model_init\\assets\n"
     ]
    },
    {
     "name": "stderr",
     "output_type": "stream",
     "text": [
      "INFO:tensorflow:Assets written to: logs\\model_init\\assets\n"
     ]
    },
    {
     "name": "stdout",
     "output_type": "stream",
     "text": [
      "86/86 [==============================] - 11s 128ms/step - loss: 0.0105 - val_loss: 0.0861\n",
      "Epoch 51/200\n",
      "86/86 [==============================] - 1s 14ms/step - loss: 0.0102 - val_loss: 0.0872\n",
      "Epoch 52/200\n",
      "86/86 [==============================] - 1s 13ms/step - loss: 0.0098 - val_loss: 0.0891\n",
      "Epoch 53/200\n",
      "82/86 [===========================>..] - ETA: 0s - loss: 0.0098"
     ]
    },
    {
     "name": "stderr",
     "output_type": "stream",
     "text": [
      "WARNING:absl:Found untraced functions such as lstm_cell_layer_call_fn, lstm_cell_layer_call_and_return_conditional_losses, lstm_cell_1_layer_call_fn, lstm_cell_1_layer_call_and_return_conditional_losses, lstm_cell_2_layer_call_fn while saving (showing 5 of 6). These functions will not be directly callable after loading.\n"
     ]
    },
    {
     "name": "stdout",
     "output_type": "stream",
     "text": [
      "INFO:tensorflow:Assets written to: logs\\model_init\\assets\n"
     ]
    },
    {
     "name": "stderr",
     "output_type": "stream",
     "text": [
      "INFO:tensorflow:Assets written to: logs\\model_init\\assets\n"
     ]
    },
    {
     "name": "stdout",
     "output_type": "stream",
     "text": [
      "86/86 [==============================] - 11s 126ms/step - loss: 0.0100 - val_loss: 0.0803\n",
      "Epoch 54/200\n",
      "86/86 [==============================] - 1s 13ms/step - loss: 0.0102 - val_loss: 0.0839\n",
      "Epoch 55/200\n",
      "86/86 [==============================] - 1s 13ms/step - loss: 0.0097 - val_loss: 0.0918\n",
      "Epoch 56/200\n",
      "86/86 [==============================] - 1s 12ms/step - loss: 0.0114 - val_loss: 0.0853\n",
      "Epoch 57/200\n",
      "84/86 [============================>.] - ETA: 0s - loss: 0.0108"
     ]
    },
    {
     "name": "stderr",
     "output_type": "stream",
     "text": [
      "WARNING:absl:Found untraced functions such as lstm_cell_layer_call_fn, lstm_cell_layer_call_and_return_conditional_losses, lstm_cell_1_layer_call_fn, lstm_cell_1_layer_call_and_return_conditional_losses, lstm_cell_2_layer_call_fn while saving (showing 5 of 6). These functions will not be directly callable after loading.\n"
     ]
    },
    {
     "name": "stdout",
     "output_type": "stream",
     "text": [
      "INFO:tensorflow:Assets written to: logs\\model_init\\assets\n"
     ]
    },
    {
     "name": "stderr",
     "output_type": "stream",
     "text": [
      "INFO:tensorflow:Assets written to: logs\\model_init\\assets\n"
     ]
    },
    {
     "name": "stdout",
     "output_type": "stream",
     "text": [
      "86/86 [==============================] - 11s 130ms/step - loss: 0.0107 - val_loss: 0.0789\n",
      "Epoch 58/200\n",
      "85/86 [============================>.] - ETA: 0s - loss: 0.0091"
     ]
    },
    {
     "name": "stderr",
     "output_type": "stream",
     "text": [
      "WARNING:absl:Found untraced functions such as lstm_cell_layer_call_fn, lstm_cell_layer_call_and_return_conditional_losses, lstm_cell_1_layer_call_fn, lstm_cell_1_layer_call_and_return_conditional_losses, lstm_cell_2_layer_call_fn while saving (showing 5 of 6). These functions will not be directly callable after loading.\n"
     ]
    },
    {
     "name": "stdout",
     "output_type": "stream",
     "text": [
      "INFO:tensorflow:Assets written to: logs\\model_init\\assets\n"
     ]
    },
    {
     "name": "stderr",
     "output_type": "stream",
     "text": [
      "INFO:tensorflow:Assets written to: logs\\model_init\\assets\n"
     ]
    },
    {
     "name": "stdout",
     "output_type": "stream",
     "text": [
      "86/86 [==============================] - 11s 134ms/step - loss: 0.0091 - val_loss: 0.0733\n",
      "Epoch 59/200\n",
      "86/86 [==============================] - 1s 13ms/step - loss: 0.0122 - val_loss: 0.0756\n",
      "Epoch 60/200\n",
      "86/86 [==============================] - 1s 14ms/step - loss: 0.0110 - val_loss: 0.0735\n",
      "Epoch 61/200\n",
      "86/86 [==============================] - 1s 13ms/step - loss: 0.0125 - val_loss: 0.0835\n",
      "Epoch 62/200\n",
      "85/86 [============================>.] - ETA: 0s - loss: 0.0106"
     ]
    },
    {
     "name": "stderr",
     "output_type": "stream",
     "text": [
      "WARNING:absl:Found untraced functions such as lstm_cell_layer_call_fn, lstm_cell_layer_call_and_return_conditional_losses, lstm_cell_1_layer_call_fn, lstm_cell_1_layer_call_and_return_conditional_losses, lstm_cell_2_layer_call_fn while saving (showing 5 of 6). These functions will not be directly callable after loading.\n"
     ]
    },
    {
     "name": "stdout",
     "output_type": "stream",
     "text": [
      "INFO:tensorflow:Assets written to: logs\\model_init\\assets\n"
     ]
    },
    {
     "name": "stderr",
     "output_type": "stream",
     "text": [
      "INFO:tensorflow:Assets written to: logs\\model_init\\assets\n"
     ]
    },
    {
     "name": "stdout",
     "output_type": "stream",
     "text": [
      "86/86 [==============================] - 11s 124ms/step - loss: 0.0105 - val_loss: 0.0733\n",
      "Epoch 63/200\n",
      "84/86 [============================>.] - ETA: 0s - loss: 0.0099"
     ]
    },
    {
     "name": "stderr",
     "output_type": "stream",
     "text": [
      "WARNING:absl:Found untraced functions such as lstm_cell_layer_call_fn, lstm_cell_layer_call_and_return_conditional_losses, lstm_cell_1_layer_call_fn, lstm_cell_1_layer_call_and_return_conditional_losses, lstm_cell_2_layer_call_fn while saving (showing 5 of 6). These functions will not be directly callable after loading.\n"
     ]
    },
    {
     "name": "stdout",
     "output_type": "stream",
     "text": [
      "INFO:tensorflow:Assets written to: logs\\model_init\\assets\n"
     ]
    },
    {
     "name": "stderr",
     "output_type": "stream",
     "text": [
      "INFO:tensorflow:Assets written to: logs\\model_init\\assets\n"
     ]
    },
    {
     "name": "stdout",
     "output_type": "stream",
     "text": [
      "86/86 [==============================] - 11s 127ms/step - loss: 0.0097 - val_loss: 0.0686\n",
      "Epoch 64/200\n",
      "83/86 [===========================>..] - ETA: 0s - loss: 0.0097"
     ]
    },
    {
     "name": "stderr",
     "output_type": "stream",
     "text": [
      "WARNING:absl:Found untraced functions such as lstm_cell_layer_call_fn, lstm_cell_layer_call_and_return_conditional_losses, lstm_cell_1_layer_call_fn, lstm_cell_1_layer_call_and_return_conditional_losses, lstm_cell_2_layer_call_fn while saving (showing 5 of 6). These functions will not be directly callable after loading.\n"
     ]
    },
    {
     "name": "stdout",
     "output_type": "stream",
     "text": [
      "INFO:tensorflow:Assets written to: logs\\model_init\\assets\n"
     ]
    },
    {
     "name": "stderr",
     "output_type": "stream",
     "text": [
      "INFO:tensorflow:Assets written to: logs\\model_init\\assets\n"
     ]
    },
    {
     "name": "stdout",
     "output_type": "stream",
     "text": [
      "86/86 [==============================] - 11s 131ms/step - loss: 0.0098 - val_loss: 0.0685\n",
      "Epoch 65/200\n",
      "86/86 [==============================] - 1s 14ms/step - loss: 0.0097 - val_loss: 0.0695\n",
      "Epoch 66/200\n",
      "86/86 [==============================] - ETA: 0s - loss: 0.0097"
     ]
    },
    {
     "name": "stderr",
     "output_type": "stream",
     "text": [
      "WARNING:absl:Found untraced functions such as lstm_cell_layer_call_fn, lstm_cell_layer_call_and_return_conditional_losses, lstm_cell_1_layer_call_fn, lstm_cell_1_layer_call_and_return_conditional_losses, lstm_cell_2_layer_call_fn while saving (showing 5 of 6). These functions will not be directly callable after loading.\n"
     ]
    },
    {
     "name": "stdout",
     "output_type": "stream",
     "text": [
      "INFO:tensorflow:Assets written to: logs\\model_init\\assets\n"
     ]
    },
    {
     "name": "stderr",
     "output_type": "stream",
     "text": [
      "INFO:tensorflow:Assets written to: logs\\model_init\\assets\n"
     ]
    },
    {
     "name": "stdout",
     "output_type": "stream",
     "text": [
      "86/86 [==============================] - 11s 127ms/step - loss: 0.0097 - val_loss: 0.0677\n",
      "Epoch 67/200\n",
      "86/86 [==============================] - 1s 14ms/step - loss: 0.0090 - val_loss: 0.0685\n",
      "Epoch 68/200\n",
      "86/86 [==============================] - 1s 14ms/step - loss: 0.0112 - val_loss: 0.0680\n",
      "Epoch 69/200\n",
      "86/86 [==============================] - 1s 13ms/step - loss: 0.0096 - val_loss: 0.0704\n",
      "Epoch 70/200\n",
      "85/86 [============================>.] - ETA: 0s - loss: 0.0103"
     ]
    },
    {
     "name": "stderr",
     "output_type": "stream",
     "text": [
      "WARNING:absl:Found untraced functions such as lstm_cell_layer_call_fn, lstm_cell_layer_call_and_return_conditional_losses, lstm_cell_1_layer_call_fn, lstm_cell_1_layer_call_and_return_conditional_losses, lstm_cell_2_layer_call_fn while saving (showing 5 of 6). These functions will not be directly callable after loading.\n"
     ]
    },
    {
     "name": "stdout",
     "output_type": "stream",
     "text": [
      "INFO:tensorflow:Assets written to: logs\\model_init\\assets\n"
     ]
    },
    {
     "name": "stderr",
     "output_type": "stream",
     "text": [
      "INFO:tensorflow:Assets written to: logs\\model_init\\assets\n"
     ]
    },
    {
     "name": "stdout",
     "output_type": "stream",
     "text": [
      "86/86 [==============================] - 11s 128ms/step - loss: 0.0102 - val_loss: 0.0610\n",
      "Epoch 71/200\n",
      "86/86 [==============================] - 1s 13ms/step - loss: 0.0075 - val_loss: 0.0648\n",
      "Epoch 72/200\n",
      "86/86 [==============================] - 1s 13ms/step - loss: 0.0095 - val_loss: 0.0639\n",
      "Epoch 73/200\n",
      "86/86 [==============================] - 1s 13ms/step - loss: 0.0087 - val_loss: 0.0654\n",
      "Epoch 74/200\n",
      "86/86 [==============================] - 1s 12ms/step - loss: 0.0110 - val_loss: 0.0623\n",
      "Epoch 75/200\n",
      "82/86 [===========================>..] - ETA: 0s - loss: 0.0113"
     ]
    },
    {
     "name": "stderr",
     "output_type": "stream",
     "text": [
      "WARNING:absl:Found untraced functions such as lstm_cell_layer_call_fn, lstm_cell_layer_call_and_return_conditional_losses, lstm_cell_1_layer_call_fn, lstm_cell_1_layer_call_and_return_conditional_losses, lstm_cell_2_layer_call_fn while saving (showing 5 of 6). These functions will not be directly callable after loading.\n"
     ]
    },
    {
     "name": "stdout",
     "output_type": "stream",
     "text": [
      "INFO:tensorflow:Assets written to: logs\\model_init\\assets\n"
     ]
    },
    {
     "name": "stderr",
     "output_type": "stream",
     "text": [
      "INFO:tensorflow:Assets written to: logs\\model_init\\assets\n"
     ]
    },
    {
     "name": "stdout",
     "output_type": "stream",
     "text": [
      "86/86 [==============================] - 11s 129ms/step - loss: 0.0110 - val_loss: 0.0605\n",
      "Epoch 76/200\n",
      "86/86 [==============================] - 1s 14ms/step - loss: 0.0075 - val_loss: 0.0626\n",
      "Epoch 77/200\n",
      "86/86 [==============================] - ETA: 0s - loss: 0.0107"
     ]
    },
    {
     "name": "stderr",
     "output_type": "stream",
     "text": [
      "WARNING:absl:Found untraced functions such as lstm_cell_layer_call_fn, lstm_cell_layer_call_and_return_conditional_losses, lstm_cell_1_layer_call_fn, lstm_cell_1_layer_call_and_return_conditional_losses, lstm_cell_2_layer_call_fn while saving (showing 5 of 6). These functions will not be directly callable after loading.\n"
     ]
    },
    {
     "name": "stdout",
     "output_type": "stream",
     "text": [
      "INFO:tensorflow:Assets written to: logs\\model_init\\assets\n"
     ]
    },
    {
     "name": "stderr",
     "output_type": "stream",
     "text": [
      "INFO:tensorflow:Assets written to: logs\\model_init\\assets\n"
     ]
    },
    {
     "name": "stdout",
     "output_type": "stream",
     "text": [
      "86/86 [==============================] - 11s 123ms/step - loss: 0.0107 - val_loss: 0.0529\n",
      "Epoch 78/200\n",
      "86/86 [==============================] - 1s 15ms/step - loss: 0.0096 - val_loss: 0.0621\n",
      "Epoch 79/200\n",
      "86/86 [==============================] - 1s 15ms/step - loss: 0.0087 - val_loss: 0.0570\n",
      "Epoch 80/200\n",
      "86/86 [==============================] - 1s 14ms/step - loss: 0.0090 - val_loss: 0.0622\n",
      "Epoch 81/200\n",
      "84/86 [============================>.] - ETA: 0s - loss: 0.0088"
     ]
    },
    {
     "name": "stderr",
     "output_type": "stream",
     "text": [
      "WARNING:absl:Found untraced functions such as lstm_cell_layer_call_fn, lstm_cell_layer_call_and_return_conditional_losses, lstm_cell_1_layer_call_fn, lstm_cell_1_layer_call_and_return_conditional_losses, lstm_cell_2_layer_call_fn while saving (showing 5 of 6). These functions will not be directly callable after loading.\n"
     ]
    },
    {
     "name": "stdout",
     "output_type": "stream",
     "text": [
      "INFO:tensorflow:Assets written to: logs\\model_init\\assets\n"
     ]
    },
    {
     "name": "stderr",
     "output_type": "stream",
     "text": [
      "INFO:tensorflow:Assets written to: logs\\model_init\\assets\n"
     ]
    },
    {
     "name": "stdout",
     "output_type": "stream",
     "text": [
      "86/86 [==============================] - 11s 127ms/step - loss: 0.0089 - val_loss: 0.0524\n",
      "Epoch 82/200\n",
      "84/86 [============================>.] - ETA: 0s - loss: 0.0086"
     ]
    },
    {
     "name": "stderr",
     "output_type": "stream",
     "text": [
      "WARNING:absl:Found untraced functions such as lstm_cell_layer_call_fn, lstm_cell_layer_call_and_return_conditional_losses, lstm_cell_1_layer_call_fn, lstm_cell_1_layer_call_and_return_conditional_losses, lstm_cell_2_layer_call_fn while saving (showing 5 of 6). These functions will not be directly callable after loading.\n"
     ]
    },
    {
     "name": "stdout",
     "output_type": "stream",
     "text": [
      "INFO:tensorflow:Assets written to: logs\\model_init\\assets\n"
     ]
    },
    {
     "name": "stderr",
     "output_type": "stream",
     "text": [
      "INFO:tensorflow:Assets written to: logs\\model_init\\assets\n"
     ]
    },
    {
     "name": "stdout",
     "output_type": "stream",
     "text": [
      "86/86 [==============================] - 12s 140ms/step - loss: 0.0094 - val_loss: 0.0515\n",
      "Epoch 83/200\n",
      "86/86 [==============================] - 1s 15ms/step - loss: 0.0079 - val_loss: 0.0543\n",
      "Epoch 84/200\n",
      "86/86 [==============================] - 1s 14ms/step - loss: 0.0089 - val_loss: 0.0517\n",
      "Epoch 85/200\n",
      "86/86 [==============================] - 1s 14ms/step - loss: 0.0083 - val_loss: 0.0528\n",
      "Epoch 86/200\n",
      "82/86 [===========================>..] - ETA: 0s - loss: 0.0088"
     ]
    },
    {
     "name": "stderr",
     "output_type": "stream",
     "text": [
      "WARNING:absl:Found untraced functions such as lstm_cell_layer_call_fn, lstm_cell_layer_call_and_return_conditional_losses, lstm_cell_1_layer_call_fn, lstm_cell_1_layer_call_and_return_conditional_losses, lstm_cell_2_layer_call_fn while saving (showing 5 of 6). These functions will not be directly callable after loading.\n"
     ]
    },
    {
     "name": "stdout",
     "output_type": "stream",
     "text": [
      "INFO:tensorflow:Assets written to: logs\\model_init\\assets\n"
     ]
    },
    {
     "name": "stderr",
     "output_type": "stream",
     "text": [
      "INFO:tensorflow:Assets written to: logs\\model_init\\assets\n"
     ]
    },
    {
     "name": "stdout",
     "output_type": "stream",
     "text": [
      "86/86 [==============================] - 11s 124ms/step - loss: 0.0087 - val_loss: 0.0463\n",
      "Epoch 87/200\n",
      "86/86 [==============================] - 1s 14ms/step - loss: 0.0088 - val_loss: 0.0516\n",
      "Epoch 88/200\n",
      "86/86 [==============================] - 1s 15ms/step - loss: 0.0088 - val_loss: 0.0516\n",
      "Epoch 89/200\n",
      "86/86 [==============================] - 1s 15ms/step - loss: 0.0084 - val_loss: 0.0527\n",
      "Epoch 90/200\n",
      "86/86 [==============================] - 1s 13ms/step - loss: 0.0081 - val_loss: 0.0647\n",
      "Epoch 91/200\n",
      "86/86 [==============================] - 1s 13ms/step - loss: 0.0084 - val_loss: 0.0554\n",
      "Epoch 92/200\n",
      "86/86 [==============================] - 1s 12ms/step - loss: 0.0086 - val_loss: 0.0498\n",
      "Epoch 93/200\n",
      "86/86 [==============================] - 1s 12ms/step - loss: 0.0079 - val_loss: 0.0468\n",
      "Epoch 94/200\n",
      "86/86 [==============================] - 1s 12ms/step - loss: 0.0087 - val_loss: 0.0483\n",
      "Epoch 95/200\n",
      "86/86 [==============================] - 1s 13ms/step - loss: 0.0084 - val_loss: 0.0465\n",
      "Epoch 96/200\n",
      "86/86 [==============================] - 1s 13ms/step - loss: 0.0095 - val_loss: 0.0504\n",
      "Epoch 97/200\n",
      "81/86 [===========================>..] - ETA: 0s - loss: 0.0095"
     ]
    },
    {
     "name": "stderr",
     "output_type": "stream",
     "text": [
      "WARNING:absl:Found untraced functions such as lstm_cell_layer_call_fn, lstm_cell_layer_call_and_return_conditional_losses, lstm_cell_1_layer_call_fn, lstm_cell_1_layer_call_and_return_conditional_losses, lstm_cell_2_layer_call_fn while saving (showing 5 of 6). These functions will not be directly callable after loading.\n"
     ]
    },
    {
     "name": "stdout",
     "output_type": "stream",
     "text": [
      "INFO:tensorflow:Assets written to: logs\\model_init\\assets\n"
     ]
    },
    {
     "name": "stderr",
     "output_type": "stream",
     "text": [
      "INFO:tensorflow:Assets written to: logs\\model_init\\assets\n"
     ]
    },
    {
     "name": "stdout",
     "output_type": "stream",
     "text": [
      "86/86 [==============================] - 11s 125ms/step - loss: 0.0098 - val_loss: 0.0456\n",
      "Epoch 98/200\n",
      "86/86 [==============================] - 1s 13ms/step - loss: 0.0084 - val_loss: 0.0505\n",
      "Epoch 99/200\n",
      "86/86 [==============================] - 1s 13ms/step - loss: 0.0085 - val_loss: 0.0473\n",
      "Epoch 100/200\n",
      "86/86 [==============================] - 1s 13ms/step - loss: 0.0079 - val_loss: 0.0474\n",
      "Epoch 101/200\n",
      "84/86 [============================>.] - ETA: 0s - loss: 0.0078"
     ]
    },
    {
     "name": "stderr",
     "output_type": "stream",
     "text": [
      "WARNING:absl:Found untraced functions such as lstm_cell_layer_call_fn, lstm_cell_layer_call_and_return_conditional_losses, lstm_cell_1_layer_call_fn, lstm_cell_1_layer_call_and_return_conditional_losses, lstm_cell_2_layer_call_fn while saving (showing 5 of 6). These functions will not be directly callable after loading.\n"
     ]
    },
    {
     "name": "stdout",
     "output_type": "stream",
     "text": [
      "INFO:tensorflow:Assets written to: logs\\model_init\\assets\n"
     ]
    },
    {
     "name": "stderr",
     "output_type": "stream",
     "text": [
      "INFO:tensorflow:Assets written to: logs\\model_init\\assets\n"
     ]
    },
    {
     "name": "stdout",
     "output_type": "stream",
     "text": [
      "86/86 [==============================] - 11s 126ms/step - loss: 0.0078 - val_loss: 0.0423\n",
      "Epoch 102/200\n",
      "85/86 [============================>.] - ETA: 0s - loss: 0.0078"
     ]
    },
    {
     "name": "stderr",
     "output_type": "stream",
     "text": [
      "WARNING:absl:Found untraced functions such as lstm_cell_layer_call_fn, lstm_cell_layer_call_and_return_conditional_losses, lstm_cell_1_layer_call_fn, lstm_cell_1_layer_call_and_return_conditional_losses, lstm_cell_2_layer_call_fn while saving (showing 5 of 6). These functions will not be directly callable after loading.\n"
     ]
    },
    {
     "name": "stdout",
     "output_type": "stream",
     "text": [
      "INFO:tensorflow:Assets written to: logs\\model_init\\assets\n"
     ]
    },
    {
     "name": "stderr",
     "output_type": "stream",
     "text": [
      "INFO:tensorflow:Assets written to: logs\\model_init\\assets\n"
     ]
    },
    {
     "name": "stdout",
     "output_type": "stream",
     "text": [
      "86/86 [==============================] - 11s 129ms/step - loss: 0.0078 - val_loss: 0.0423\n",
      "Epoch 103/200\n",
      "86/86 [==============================] - 1s 13ms/step - loss: 0.0078 - val_loss: 0.0472\n",
      "Epoch 104/200\n",
      "86/86 [==============================] - 1s 13ms/step - loss: 0.0077 - val_loss: 0.0502\n",
      "Epoch 105/200\n",
      "86/86 [==============================] - 1s 13ms/step - loss: 0.0109 - val_loss: 0.0568\n",
      "Epoch 106/200\n",
      "86/86 [==============================] - 1s 13ms/step - loss: 0.0080 - val_loss: 0.0450\n",
      "Epoch 107/200\n",
      "86/86 [==============================] - 1s 13ms/step - loss: 0.0069 - val_loss: 0.0459\n",
      "Epoch 108/200\n",
      "86/86 [==============================] - 1s 12ms/step - loss: 0.0084 - val_loss: 0.0532\n",
      "Epoch 109/200\n",
      "86/86 [==============================] - 1s 12ms/step - loss: 0.0086 - val_loss: 0.0440\n",
      "Epoch 110/200\n",
      "82/86 [===========================>..] - ETA: 0s - loss: 0.0085"
     ]
    },
    {
     "name": "stderr",
     "output_type": "stream",
     "text": [
      "WARNING:absl:Found untraced functions such as lstm_cell_layer_call_fn, lstm_cell_layer_call_and_return_conditional_losses, lstm_cell_1_layer_call_fn, lstm_cell_1_layer_call_and_return_conditional_losses, lstm_cell_2_layer_call_fn while saving (showing 5 of 6). These functions will not be directly callable after loading.\n"
     ]
    },
    {
     "name": "stdout",
     "output_type": "stream",
     "text": [
      "INFO:tensorflow:Assets written to: logs\\model_init\\assets\n"
     ]
    },
    {
     "name": "stderr",
     "output_type": "stream",
     "text": [
      "INFO:tensorflow:Assets written to: logs\\model_init\\assets\n"
     ]
    },
    {
     "name": "stdout",
     "output_type": "stream",
     "text": [
      "86/86 [==============================] - 11s 126ms/step - loss: 0.0083 - val_loss: 0.0356\n",
      "Epoch 111/200\n",
      "86/86 [==============================] - 1s 14ms/step - loss: 0.0085 - val_loss: 0.0416\n",
      "Epoch 112/200\n",
      "86/86 [==============================] - 1s 14ms/step - loss: 0.0085 - val_loss: 0.0399\n",
      "Epoch 113/200\n",
      "86/86 [==============================] - 1s 14ms/step - loss: 0.0073 - val_loss: 0.0415\n",
      "Epoch 114/200\n",
      "86/86 [==============================] - 1s 14ms/step - loss: 0.0068 - val_loss: 0.0418\n",
      "Epoch 115/200\n",
      "86/86 [==============================] - 1s 14ms/step - loss: 0.0082 - val_loss: 0.0406\n",
      "Epoch 116/200\n",
      "86/86 [==============================] - 1s 14ms/step - loss: 0.0090 - val_loss: 0.0392\n",
      "Epoch 117/200\n",
      "86/86 [==============================] - 1s 14ms/step - loss: 0.0076 - val_loss: 0.0487\n",
      "Epoch 118/200\n",
      "86/86 [==============================] - 1s 14ms/step - loss: 0.0095 - val_loss: 0.0458\n",
      "Epoch 119/200\n",
      "86/86 [==============================] - 1s 14ms/step - loss: 0.0063 - val_loss: 0.0413\n",
      "Epoch 120/200\n",
      "86/86 [==============================] - 1s 14ms/step - loss: 0.0077 - val_loss: 0.0414\n",
      "Epoch 121/200\n",
      "86/86 [==============================] - 1s 14ms/step - loss: 0.0084 - val_loss: 0.0482\n",
      "Epoch 122/200\n",
      "86/86 [==============================] - 1s 14ms/step - loss: 0.0083 - val_loss: 0.0385\n",
      "Epoch 123/200\n",
      "86/86 [==============================] - 1s 14ms/step - loss: 0.0063 - val_loss: 0.0467\n",
      "Epoch 124/200\n",
      "86/86 [==============================] - 1s 14ms/step - loss: 0.0080 - val_loss: 0.0358\n",
      "Epoch 125/200\n",
      "86/86 [==============================] - 1s 14ms/step - loss: 0.0064 - val_loss: 0.0471\n",
      "Epoch 126/200\n",
      "86/86 [==============================] - 1s 14ms/step - loss: 0.0063 - val_loss: 0.0379\n",
      "Epoch 127/200\n",
      "86/86 [==============================] - 1s 13ms/step - loss: 0.0077 - val_loss: 0.0389\n",
      "Epoch 128/200\n",
      "83/86 [===========================>..] - ETA: 0s - loss: 0.0070"
     ]
    },
    {
     "name": "stderr",
     "output_type": "stream",
     "text": [
      "WARNING:absl:Found untraced functions such as lstm_cell_layer_call_fn, lstm_cell_layer_call_and_return_conditional_losses, lstm_cell_1_layer_call_fn, lstm_cell_1_layer_call_and_return_conditional_losses, lstm_cell_2_layer_call_fn while saving (showing 5 of 6). These functions will not be directly callable after loading.\n"
     ]
    },
    {
     "name": "stdout",
     "output_type": "stream",
     "text": [
      "INFO:tensorflow:Assets written to: logs\\model_init\\assets\n"
     ]
    },
    {
     "name": "stderr",
     "output_type": "stream",
     "text": [
      "INFO:tensorflow:Assets written to: logs\\model_init\\assets\n"
     ]
    },
    {
     "name": "stdout",
     "output_type": "stream",
     "text": [
      "86/86 [==============================] - 11s 127ms/step - loss: 0.0069 - val_loss: 0.0327\n",
      "Epoch 129/200\n",
      "86/86 [==============================] - 1s 13ms/step - loss: 0.0085 - val_loss: 0.0365\n",
      "Epoch 130/200\n",
      "86/86 [==============================] - 1s 12ms/step - loss: 0.0062 - val_loss: 0.0347\n",
      "Epoch 131/200\n",
      "86/86 [==============================] - 1s 12ms/step - loss: 0.0061 - val_loss: 0.0359\n",
      "Epoch 132/200\n",
      "86/86 [==============================] - 1s 11ms/step - loss: 0.0060 - val_loss: 0.0342\n",
      "Epoch 133/200\n",
      "86/86 [==============================] - 1s 12ms/step - loss: 0.0081 - val_loss: 0.0363\n",
      "Epoch 134/200\n",
      "86/86 [==============================] - 1s 12ms/step - loss: 0.0077 - val_loss: 0.0359\n",
      "Epoch 135/200\n",
      "86/86 [==============================] - 1s 11ms/step - loss: 0.0092 - val_loss: 0.0347\n",
      "Epoch 136/200\n",
      "86/86 [==============================] - 1s 12ms/step - loss: 0.0069 - val_loss: 0.0375\n",
      "Epoch 137/200\n",
      "86/86 [==============================] - 1s 11ms/step - loss: 0.0086 - val_loss: 0.0343\n",
      "Epoch 138/200\n",
      "86/86 [==============================] - 1s 12ms/step - loss: 0.0073 - val_loss: 0.0374\n",
      "Epoch 139/200\n",
      "86/86 [==============================] - 1s 12ms/step - loss: 0.0072 - val_loss: 0.0392\n",
      "Epoch 140/200\n",
      "86/86 [==============================] - 1s 12ms/step - loss: 0.0063 - val_loss: 0.0368\n",
      "Epoch 141/200\n",
      "86/86 [==============================] - 1s 12ms/step - loss: 0.0068 - val_loss: 0.0388\n",
      "Epoch 142/200\n",
      "86/86 [==============================] - 1s 12ms/step - loss: 0.0075 - val_loss: 0.0408\n",
      "Epoch 143/200\n",
      "86/86 [==============================] - 1s 12ms/step - loss: 0.0055 - val_loss: 0.0364\n",
      "Epoch 144/200\n",
      "86/86 [==============================] - 1s 11ms/step - loss: 0.0067 - val_loss: 0.0375\n",
      "Epoch 145/200\n",
      "86/86 [==============================] - 1s 12ms/step - loss: 0.0076 - val_loss: 0.0405\n",
      "Epoch 146/200\n",
      "86/86 [==============================] - 1s 12ms/step - loss: 0.0058 - val_loss: 0.0364\n",
      "Epoch 147/200\n",
      "86/86 [==============================] - 1s 12ms/step - loss: 0.0067 - val_loss: 0.0403\n",
      "Epoch 148/200\n",
      "84/86 [============================>.] - ETA: 0s - loss: 0.0068"
     ]
    },
    {
     "name": "stderr",
     "output_type": "stream",
     "text": [
      "WARNING:absl:Found untraced functions such as lstm_cell_layer_call_fn, lstm_cell_layer_call_and_return_conditional_losses, lstm_cell_1_layer_call_fn, lstm_cell_1_layer_call_and_return_conditional_losses, lstm_cell_2_layer_call_fn while saving (showing 5 of 6). These functions will not be directly callable after loading.\n"
     ]
    },
    {
     "name": "stdout",
     "output_type": "stream",
     "text": [
      "INFO:tensorflow:Assets written to: logs\\model_init\\assets\n"
     ]
    },
    {
     "name": "stderr",
     "output_type": "stream",
     "text": [
      "INFO:tensorflow:Assets written to: logs\\model_init\\assets\n"
     ]
    },
    {
     "name": "stdout",
     "output_type": "stream",
     "text": [
      "86/86 [==============================] - 10s 123ms/step - loss: 0.0067 - val_loss: 0.0327\n",
      "Epoch 149/200\n",
      "86/86 [==============================] - 1s 12ms/step - loss: 0.0072 - val_loss: 0.0381\n",
      "Epoch 150/200\n",
      "86/86 [==============================] - 1s 13ms/step - loss: 0.0077 - val_loss: 0.0367\n",
      "Epoch 151/200\n",
      "86/86 [==============================] - 1s 14ms/step - loss: 0.0063 - val_loss: 0.0341\n",
      "Epoch 152/200\n",
      "86/86 [==============================] - 1s 14ms/step - loss: 0.0058 - val_loss: 0.0346\n",
      "Epoch 153/200\n",
      "86/86 [==============================] - 1s 14ms/step - loss: 0.0071 - val_loss: 0.0344\n",
      "Epoch 154/200\n",
      "86/86 [==============================] - 1s 14ms/step - loss: 0.0064 - val_loss: 0.0352\n",
      "Epoch 155/200\n",
      "86/86 [==============================] - 1s 14ms/step - loss: 0.0081 - val_loss: 0.0484\n",
      "Epoch 156/200\n",
      "86/86 [==============================] - 1s 14ms/step - loss: 0.0082 - val_loss: 0.0330\n",
      "Epoch 157/200\n",
      "86/86 [==============================] - 1s 15ms/step - loss: 0.0064 - val_loss: 0.0331\n",
      "Epoch 158/200\n",
      "86/86 [==============================] - 1s 14ms/step - loss: 0.0063 - val_loss: 0.0346\n",
      "Epoch 159/200\n",
      "83/86 [===========================>..] - ETA: 0s - loss: 0.0052"
     ]
    },
    {
     "name": "stderr",
     "output_type": "stream",
     "text": [
      "WARNING:absl:Found untraced functions such as lstm_cell_layer_call_fn, lstm_cell_layer_call_and_return_conditional_losses, lstm_cell_1_layer_call_fn, lstm_cell_1_layer_call_and_return_conditional_losses, lstm_cell_2_layer_call_fn while saving (showing 5 of 6). These functions will not be directly callable after loading.\n"
     ]
    },
    {
     "name": "stdout",
     "output_type": "stream",
     "text": [
      "INFO:tensorflow:Assets written to: logs\\model_init\\assets\n"
     ]
    },
    {
     "name": "stderr",
     "output_type": "stream",
     "text": [
      "INFO:tensorflow:Assets written to: logs\\model_init\\assets\n"
     ]
    },
    {
     "name": "stdout",
     "output_type": "stream",
     "text": [
      "86/86 [==============================] - 11s 132ms/step - loss: 0.0050 - val_loss: 0.0326\n",
      "Epoch 160/200\n",
      "86/86 [==============================] - 1s 13ms/step - loss: 0.0075 - val_loss: 0.0382\n",
      "Epoch 161/200\n",
      "86/86 [==============================] - 1s 13ms/step - loss: 0.0062 - val_loss: 0.0332\n",
      "Epoch 162/200\n",
      "86/86 [==============================] - 1s 13ms/step - loss: 0.0067 - val_loss: 0.0328\n",
      "Epoch 163/200\n",
      "86/86 [==============================] - 1s 12ms/step - loss: 0.0058 - val_loss: 0.0342\n",
      "Epoch 164/200\n",
      "86/86 [==============================] - 1s 12ms/step - loss: 0.0071 - val_loss: 0.0348\n",
      "Epoch 165/200\n",
      "86/86 [==============================] - 1s 12ms/step - loss: 0.0073 - val_loss: 0.0334\n",
      "Epoch 166/200\n",
      "86/86 [==============================] - 1s 12ms/step - loss: 0.0075 - val_loss: 0.0330\n",
      "Epoch 167/200\n",
      "84/86 [============================>.] - ETA: 0s - loss: 0.0056"
     ]
    },
    {
     "name": "stderr",
     "output_type": "stream",
     "text": [
      "WARNING:absl:Found untraced functions such as lstm_cell_layer_call_fn, lstm_cell_layer_call_and_return_conditional_losses, lstm_cell_1_layer_call_fn, lstm_cell_1_layer_call_and_return_conditional_losses, lstm_cell_2_layer_call_fn while saving (showing 5 of 6). These functions will not be directly callable after loading.\n"
     ]
    },
    {
     "name": "stdout",
     "output_type": "stream",
     "text": [
      "INFO:tensorflow:Assets written to: logs\\model_init\\assets\n"
     ]
    },
    {
     "name": "stderr",
     "output_type": "stream",
     "text": [
      "INFO:tensorflow:Assets written to: logs\\model_init\\assets\n"
     ]
    },
    {
     "name": "stdout",
     "output_type": "stream",
     "text": [
      "86/86 [==============================] - 11s 128ms/step - loss: 0.0057 - val_loss: 0.0326\n",
      "Epoch 168/200\n",
      "86/86 [==============================] - 1s 13ms/step - loss: 0.0063 - val_loss: 0.0328\n",
      "Epoch 169/200\n",
      "86/86 [==============================] - 1s 12ms/step - loss: 0.0063 - val_loss: 0.0342\n",
      "Epoch 170/200\n",
      "86/86 [==============================] - 1s 12ms/step - loss: 0.0071 - val_loss: 0.0331\n",
      "Epoch 171/200\n",
      "86/86 [==============================] - 1s 13ms/step - loss: 0.0059 - val_loss: 0.0412\n",
      "Epoch 172/200\n",
      "86/86 [==============================] - 1s 12ms/step - loss: 0.0067 - val_loss: 0.0336\n",
      "Epoch 173/200\n",
      "86/86 [==============================] - 1s 12ms/step - loss: 0.0065 - val_loss: 0.0401\n",
      "Epoch 174/200\n",
      "86/86 [==============================] - 1s 12ms/step - loss: 0.0065 - val_loss: 0.0390\n",
      "Epoch 175/200\n",
      "86/86 [==============================] - 1s 12ms/step - loss: 0.0066 - val_loss: 0.0361\n",
      "Epoch 176/200\n",
      "86/86 [==============================] - 1s 13ms/step - loss: 0.0051 - val_loss: 0.0346\n",
      "Epoch 177/200\n",
      "86/86 [==============================] - 1s 13ms/step - loss: 0.0053 - val_loss: 0.0338\n",
      "Epoch 178/200\n",
      "86/86 [==============================] - 1s 13ms/step - loss: 0.0060 - val_loss: 0.0337\n",
      "Epoch 179/200\n",
      "85/86 [============================>.] - ETA: 0s - loss: 0.0059"
     ]
    },
    {
     "name": "stderr",
     "output_type": "stream",
     "text": [
      "WARNING:absl:Found untraced functions such as lstm_cell_layer_call_fn, lstm_cell_layer_call_and_return_conditional_losses, lstm_cell_1_layer_call_fn, lstm_cell_1_layer_call_and_return_conditional_losses, lstm_cell_2_layer_call_fn while saving (showing 5 of 6). These functions will not be directly callable after loading.\n"
     ]
    },
    {
     "name": "stdout",
     "output_type": "stream",
     "text": [
      "INFO:tensorflow:Assets written to: logs\\model_init\\assets\n"
     ]
    },
    {
     "name": "stderr",
     "output_type": "stream",
     "text": [
      "INFO:tensorflow:Assets written to: logs\\model_init\\assets\n"
     ]
    },
    {
     "name": "stdout",
     "output_type": "stream",
     "text": [
      "86/86 [==============================] - 11s 130ms/step - loss: 0.0059 - val_loss: 0.0302\n",
      "Epoch 180/200\n",
      "86/86 [==============================] - 1s 16ms/step - loss: 0.0060 - val_loss: 0.0323\n",
      "Epoch 181/200\n",
      "86/86 [==============================] - 1s 15ms/step - loss: 0.0067 - val_loss: 0.0326\n",
      "Epoch 182/200\n",
      "86/86 [==============================] - 1s 14ms/step - loss: 0.0058 - val_loss: 0.0316\n",
      "Epoch 183/200\n",
      "86/86 [==============================] - 1s 14ms/step - loss: 0.0067 - val_loss: 0.0369\n",
      "Epoch 184/200\n",
      "86/86 [==============================] - 1s 14ms/step - loss: 0.0052 - val_loss: 0.0409\n",
      "Epoch 185/200\n",
      "86/86 [==============================] - 1s 14ms/step - loss: 0.0063 - val_loss: 0.0366\n",
      "Epoch 186/200\n",
      "86/86 [==============================] - 1s 15ms/step - loss: 0.0057 - val_loss: 0.0359\n",
      "Epoch 187/200\n",
      "86/86 [==============================] - 1s 14ms/step - loss: 0.0065 - val_loss: 0.0373\n",
      "Epoch 188/200\n",
      "86/86 [==============================] - 1s 14ms/step - loss: 0.0073 - val_loss: 0.0332\n",
      "Epoch 189/200\n",
      "86/86 [==============================] - 1s 14ms/step - loss: 0.0056 - val_loss: 0.0324\n",
      "Epoch 190/200\n",
      "86/86 [==============================] - 1s 14ms/step - loss: 0.0065 - val_loss: 0.0365\n",
      "Epoch 191/200\n",
      "86/86 [==============================] - 1s 14ms/step - loss: 0.0060 - val_loss: 0.0310\n",
      "Epoch 192/200\n",
      "86/86 [==============================] - 1s 15ms/step - loss: 0.0075 - val_loss: 0.0365\n",
      "Epoch 193/200\n",
      "86/86 [==============================] - 1s 14ms/step - loss: 0.0059 - val_loss: 0.0359\n",
      "Epoch 194/200\n",
      "86/86 [==============================] - 1s 14ms/step - loss: 0.0067 - val_loss: 0.0342\n",
      "Epoch 195/200\n",
      "86/86 [==============================] - 1s 14ms/step - loss: 0.0063 - val_loss: 0.0344\n",
      "Epoch 196/200\n",
      "86/86 [==============================] - 1s 14ms/step - loss: 0.0057 - val_loss: 0.0305\n",
      "Epoch 197/200\n",
      "86/86 [==============================] - 1s 14ms/step - loss: 0.0052 - val_loss: 0.0375\n",
      "Epoch 198/200\n",
      "86/86 [==============================] - 1s 14ms/step - loss: 0.0067 - val_loss: 0.0350\n",
      "Epoch 199/200\n",
      "86/86 [==============================] - 1s 11ms/step - loss: 0.0060 - val_loss: 0.0352\n",
      "Epoch 200/200\n",
      "86/86 [==============================] - 1s 12ms/step - loss: 0.0055 - val_loss: 0.0315\n"
     ]
    }
   ],
   "source": [
    "if train:\n",
    "    #putting this here so we can blindly run the whole script and still get the plots without HAVING to train\n",
    "    # each time. Bc we still access the 'model' via a load model command below.\n",
    "    history=model.fit(x_train,y_train,epochs=epochs,validation_data=(x_val,y_val),callbacks=[cp,csv_logger],verbose=verbose)"
   ]
  },
  {
   "cell_type": "code",
   "execution_count": 10,
   "metadata": {},
   "outputs": [],
   "source": [
    "# this is just making sure we can access it\n",
    "model=tf.keras.models.load_model(logspath)\n",
    "log_data = pd.read_csv(os.path.join(logspath,'training.log'), sep=',', engine='python') #this loads up the history"
   ]
  },
  {
   "cell_type": "code",
   "execution_count": 11,
   "metadata": {},
   "outputs": [
    {
     "name": "stdout",
     "output_type": "stream",
     "text": [
      "86/86 [==============================] - 1s 5ms/step\n"
     ]
    }
   ],
   "source": [
    "train_predictions=model.predict(x_train).flatten()\n",
    "yflat=y_train.flatten()"
   ]
  },
  {
   "cell_type": "code",
   "execution_count": 12,
   "metadata": {},
   "outputs": [
    {
     "name": "stdout",
     "output_type": "stream",
     "text": [
      "86/86 [==============================] - 0s 4ms/step\n"
     ]
    }
   ],
   "source": [
    "train_predictions=model.predict(x_train).flatten()\n",
    "train_results=pd.DataFrame(data={'Train Predictions':train_predictions,'Actuals':yflat})\n",
    "\n",
    "if verbose:\n",
    "    train_results"
   ]
  },
  {
   "cell_type": "code",
   "execution_count": 13,
   "metadata": {},
   "outputs": [
    {
     "data": {
      "image/png": "[encoded data removed]",
      "text/plain": [
       "<Figure size 640x480 with 1 Axes>"
      ]
     },
     "metadata": {},
     "output_type": "display_data"
    }
   ],
   "source": [
    "## Check for overfitting\n",
    "from matplotlib import pyplot as plt\n",
    "plt.plot(history.history['loss'])\n",
    "plt.title('Model Loss')\n",
    "plt.ylabel('Loss')\n",
    "plt.xlabel('Epoch')\n",
    "plt.show()"
   ]
  },
  {
   "cell_type": "code",
   "execution_count": 14,
   "metadata": {},
   "outputs": [
    {
     "name": "stdout",
     "output_type": "stream",
     "text": [
      "2/2 [==============================] - 1s 5ms/step - loss: 0.2969\n",
      "0.2969304621219635\n"
     ]
    }
   ],
   "source": [
    "## evaluate the model\n",
    "testscore=model.evaluate(x_test,y_test)\n",
    "if verbose: \n",
    "    print(testscore)"
   ]
  },
  {
   "cell_type": "code",
   "execution_count": 15,
   "metadata": {},
   "outputs": [
    {
     "name": "stdout",
     "output_type": "stream",
     "text": [
      "2742 609 34\n"
     ]
    }
   ],
   "source": [
    "# Add dates here because we arent training with the date becasue that is kind of annoying to do.\n",
    "def genDateSplit(dates,windowSize,threshold=0.8,valsize=0.01): \n",
    "    #threshold means 80% is split train/val\n",
    "    # valsize means 1% never sees the model in val or training; this is taken from the val side, so val is actually size = 1-threshold-valsize\n",
    "    threshold_index=round(X.shape[0]*(threshold+valsize))+windowSize\n",
    "    valindex=round(X.shape[0]*(1-valsize))+windowSize\n",
    "    \n",
    "    a=dates[windowSize:threshold_index]\n",
    "    b=dates[threshold_index:valindex]\n",
    "    c=dates[valindex:]\n",
    "    \n",
    "    print(len(a),len(b),len(c))\n",
    "    \n",
    "    return a,b,c\n",
    "\n",
    "unixdates=df.Date.tolist()\n",
    "ndates=[]\n",
    "for i in unixdates:\n",
    "    ndates.append(datetime.datetime.utcfromtimestamp(i).strftime('%Y-%m-%d'))\n",
    "# print(ndates)\n",
    "\n",
    "trainDates,val_dates,testDates=genDateSplit(ndates,windowSize)\n"
   ]
  },
  {
   "cell_type": "code",
   "execution_count": 16,
   "metadata": {},
   "outputs": [
    {
     "name": "stdout",
     "output_type": "stream",
     "text": [
      "train 2742 2742\n",
      "val 609 609\n",
      "test 34 34\n"
     ]
    }
   ],
   "source": [
    "if verbose:\n",
    "    # compare lengths of the data things\n",
    "    print(\"train\", len(trainDates),y_train.shape[0])\n",
    "    print(\"val\", len(val_dates),y_val.shape[0])\n",
    "    print(\"test\", len(testDates),y_test.shape[0])"
   ]
  },
  {
   "cell_type": "code",
   "execution_count": 17,
   "metadata": {},
   "outputs": [
    {
     "name": "stdout",
     "output_type": "stream",
     "text": [
      "20/20 [==============================] - 0s 4ms/step\n",
      "2/2 [==============================] - 0s 10ms/step\n",
      "1/1 [==============================] - 1s 985ms/step\n"
     ]
    }
   ],
   "source": [
    "new_x_set4Predict=np.concatenate((x_test[-1:,-9:,:],np.array([[y_test[-1]]]).reshape(1, 1, 1)),axis=1)\n",
    "\n",
    "val_predictions=model.predict(x_val)\n",
    "test_predictions=model.predict(x_test)\n",
    "future_predict=model.predict(new_x_set4Predict)"
   ]
  },
  {
   "cell_type": "code",
   "execution_count": 18,
   "metadata": {},
   "outputs": [],
   "source": [
    "## un-normalize data so that we can have the context to it\n",
    "def unNormalize(normddata,meann,stddev):\n",
    "    # print(meann,stddev)\n",
    "    orig=normddata*stddev + meann\n",
    "    return orig\n",
    "\n",
    "normed_ytrain=unNormalize(y_train,unNormData['ytrain'][0],unNormData['ytrain'][1])\n",
    "normed_yval=unNormalize(y_val,unNormData['yval'][0],unNormData['yval'][1])\n",
    "normed_ytest=unNormalize(y_test,unNormData['ytest'][0],unNormData['ytest'][1])\n",
    "\n",
    "normValPreedict=unNormalize(val_predictions,unNormData['yval'][0],unNormData['yval'][1])\n",
    "normTestPredictions=unNormalize(test_predictions,unNormData['ytest'][0],unNormData['ytest'][1])\n",
    "normed_futurePrediction=unNormalize(future_predict,unNormData['ytest'][0],unNormData['ytest'][1])\n"
   ]
  },
  {
   "cell_type": "code",
   "execution_count": 19,
   "metadata": {},
   "outputs": [
    {
     "data": {
      "image/png": "[encoded data removed]",
      "text/plain": [
       "<Figure size 640x480 with 1 Axes>"
      ]
     },
     "metadata": {},
     "output_type": "display_data"
    },
    {
     "data": {
      "image/png": "[encoded data removed]",
      "text/plain": [
       "<Figure size 640x480 with 1 Axes>"
      ]
     },
     "metadata": {},
     "output_type": "display_data"
    },
    {
     "data": {
      "image/png": "[encoded data removed]",
      "text/plain": [
       "<Figure size 640x480 with 1 Axes>"
      ]
     },
     "metadata": {},
     "output_type": "display_data"
    },
    {
     "name": "stdout",
     "output_type": "stream",
     "text": [
      "IT LOOKS LIKE THERE IS A ONE STEP OFFSET HERE, WHEN YOU ZOOM IN, BUT THERE ISNT, THE MODEL JUST SUCKS\n"
     ]
    }
   ],
   "source": [
    "#Plot the real stock prices\n",
    "plt.plot(trainDates,normed_ytrain.flatten(),label=\"train (first 80%)\")\n",
    "plt.xticks(trainDates[::200],rotation=45)\n",
    "plt.plot(val_dates,normed_yval.flatten(),label=\"val (last 20%)\")\n",
    "plt.plot(testDates,normed_ytest.flatten(),label=\"test (very last 30 pts)\")\n",
    "\n",
    "plt.plot(val_dates,normValPreedict,label=\"validation set predictions\")\n",
    "plt.plot(testDates,normTestPredictions,label=\"test set predictions\")\n",
    "plt.title('TSLA price history (all)')\n",
    "plt.ylabel('Price')\n",
    "plt.xlabel('Date')\n",
    "plt.legend() \n",
    "plt.show()\n",
    "\n",
    "plt.plot(val_dates,normed_yval,label=\"Validation Set\",marker='o')\n",
    "\n",
    "plt.plot(val_dates,normValPreedict,label=\"validation set predictions\")\n",
    "plt.xticks(val_dates[::50],rotation=45)\n",
    "plt.title('TSLA val portion')\n",
    "plt.ylabel('Price')\n",
    "plt.xlabel('Date')\n",
    "plt.legend() \n",
    "plt.show()\n",
    "\n",
    "plt.plot(testDates,normed_ytest,label=\"Test Set\",marker='x')\n",
    "plt.plot(testDates,normTestPredictions,label=\"test set predictions\",marker='x')\n",
    "futureDate=(datetime.datetime.strptime(testDates[-1],'%Y-%m-%d')+datetime.timedelta(days=1)).strftime('%Y-%m-%d')\n",
    "plt.plot(futureDate,normed_futurePrediction,label=\"Future Projections\",marker='o')\n",
    "plt.annotate(f\"{futureDate} open predicition: {normed_futurePrediction}\",[futureDate,normed_futurePrediction+3])\n",
    "plt.xticks(testDates[::3],rotation=45)\n",
    "plt.title('TSLA test portion')\n",
    "plt.ylabel('Price')\n",
    "plt.xlabel('Date')\n",
    "plt.grid()\n",
    "plt.legend() \n",
    "plt.show()\n",
    "\n",
    "print('IT LOOKS LIKE THERE IS A ONE STEP OFFSET HERE, WHEN YOU ZOOM IN, BUT THERE ISNT, THE MODEL JUST SUCKS')\n"
   ]
  }
 ],
 "metadata": {
  "kernelspec": {
   "display_name": ".venv",
   "language": "python",
   "name": "python3"
  },
  "language_info": {
   "codemirror_mode": {
    "name": "ipython",
    "version": 3
   },
   "file_extension": ".py",
   "mimetype": "text/x-python",
   "name": "python",
   "nbconvert_exporter": "python",
   "pygments_lexer": "ipython3",
   "version": "3.10.2"
  }
 },
 "nbformat": 4,
 "nbformat_minor": 2
}
